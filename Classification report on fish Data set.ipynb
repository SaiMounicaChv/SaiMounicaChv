{
 "cells": [
  {
   "cell_type": "code",
   "execution_count": 1,
   "id": "30677740",
   "metadata": {
    "scrolled": true
   },
   "outputs": [
    {
     "ename": "FileNotFoundError",
     "evalue": "[Errno 2] No such file or directory: 'C:\\\\Users\\\\chvsa\\\\Desktop\\\\ML Assignment\\\\Fish.csv'",
     "output_type": "error",
     "traceback": [
      "\u001b[1;31m---------------------------------------------------------------------------\u001b[0m",
      "\u001b[1;31mFileNotFoundError\u001b[0m                         Traceback (most recent call last)",
      "\u001b[1;32m<ipython-input-1-2eaa9a8cd1b3>\u001b[0m in \u001b[0;36m<module>\u001b[1;34m\u001b[0m\n\u001b[0;32m      1\u001b[0m \u001b[1;32mimport\u001b[0m \u001b[0mpandas\u001b[0m \u001b[1;32mas\u001b[0m \u001b[0mpd\u001b[0m\u001b[1;33m\u001b[0m\u001b[1;33m\u001b[0m\u001b[0m\n\u001b[0;32m      2\u001b[0m \u001b[1;32mimport\u001b[0m \u001b[0mnumpy\u001b[0m \u001b[1;32mas\u001b[0m \u001b[0mnp\u001b[0m\u001b[1;33m\u001b[0m\u001b[1;33m\u001b[0m\u001b[0m\n\u001b[1;32m----> 3\u001b[1;33m \u001b[0minput_data\u001b[0m \u001b[1;33m=\u001b[0m \u001b[0mpd\u001b[0m\u001b[1;33m.\u001b[0m\u001b[0mread_csv\u001b[0m\u001b[1;33m(\u001b[0m\u001b[1;34mr\"C:\\Users\\chvsa\\Desktop\\ML Assignment\\Fish.csv\"\u001b[0m\u001b[1;33m)\u001b[0m\u001b[1;33m\u001b[0m\u001b[1;33m\u001b[0m\u001b[0m\n\u001b[0m\u001b[0;32m      4\u001b[0m \u001b[0mprint\u001b[0m\u001b[1;33m(\u001b[0m\u001b[0minput_data\u001b[0m\u001b[1;33m)\u001b[0m\u001b[1;33m\u001b[0m\u001b[1;33m\u001b[0m\u001b[0m\n\u001b[0;32m      5\u001b[0m \u001b[0mprint\u001b[0m\u001b[1;33m(\u001b[0m\u001b[0mtype\u001b[0m\u001b[1;33m(\u001b[0m\u001b[0minput_data\u001b[0m\u001b[1;33m)\u001b[0m\u001b[1;33m)\u001b[0m\u001b[1;33m\u001b[0m\u001b[1;33m\u001b[0m\u001b[0m\n",
      "\u001b[1;32m~\\anaconda3\\lib\\site-packages\\pandas\\io\\parsers.py\u001b[0m in \u001b[0;36mread_csv\u001b[1;34m(filepath_or_buffer, sep, delimiter, header, names, index_col, usecols, squeeze, prefix, mangle_dupe_cols, dtype, engine, converters, true_values, false_values, skipinitialspace, skiprows, skipfooter, nrows, na_values, keep_default_na, na_filter, verbose, skip_blank_lines, parse_dates, infer_datetime_format, keep_date_col, date_parser, dayfirst, cache_dates, iterator, chunksize, compression, thousands, decimal, lineterminator, quotechar, quoting, doublequote, escapechar, comment, encoding, dialect, error_bad_lines, warn_bad_lines, delim_whitespace, low_memory, memory_map, float_precision, storage_options)\u001b[0m\n\u001b[0;32m    608\u001b[0m     \u001b[0mkwds\u001b[0m\u001b[1;33m.\u001b[0m\u001b[0mupdate\u001b[0m\u001b[1;33m(\u001b[0m\u001b[0mkwds_defaults\u001b[0m\u001b[1;33m)\u001b[0m\u001b[1;33m\u001b[0m\u001b[1;33m\u001b[0m\u001b[0m\n\u001b[0;32m    609\u001b[0m \u001b[1;33m\u001b[0m\u001b[0m\n\u001b[1;32m--> 610\u001b[1;33m     \u001b[1;32mreturn\u001b[0m \u001b[0m_read\u001b[0m\u001b[1;33m(\u001b[0m\u001b[0mfilepath_or_buffer\u001b[0m\u001b[1;33m,\u001b[0m \u001b[0mkwds\u001b[0m\u001b[1;33m)\u001b[0m\u001b[1;33m\u001b[0m\u001b[1;33m\u001b[0m\u001b[0m\n\u001b[0m\u001b[0;32m    611\u001b[0m \u001b[1;33m\u001b[0m\u001b[0m\n\u001b[0;32m    612\u001b[0m \u001b[1;33m\u001b[0m\u001b[0m\n",
      "\u001b[1;32m~\\anaconda3\\lib\\site-packages\\pandas\\io\\parsers.py\u001b[0m in \u001b[0;36m_read\u001b[1;34m(filepath_or_buffer, kwds)\u001b[0m\n\u001b[0;32m    460\u001b[0m \u001b[1;33m\u001b[0m\u001b[0m\n\u001b[0;32m    461\u001b[0m     \u001b[1;31m# Create the parser.\u001b[0m\u001b[1;33m\u001b[0m\u001b[1;33m\u001b[0m\u001b[1;33m\u001b[0m\u001b[0m\n\u001b[1;32m--> 462\u001b[1;33m     \u001b[0mparser\u001b[0m \u001b[1;33m=\u001b[0m \u001b[0mTextFileReader\u001b[0m\u001b[1;33m(\u001b[0m\u001b[0mfilepath_or_buffer\u001b[0m\u001b[1;33m,\u001b[0m \u001b[1;33m**\u001b[0m\u001b[0mkwds\u001b[0m\u001b[1;33m)\u001b[0m\u001b[1;33m\u001b[0m\u001b[1;33m\u001b[0m\u001b[0m\n\u001b[0m\u001b[0;32m    463\u001b[0m \u001b[1;33m\u001b[0m\u001b[0m\n\u001b[0;32m    464\u001b[0m     \u001b[1;32mif\u001b[0m \u001b[0mchunksize\u001b[0m \u001b[1;32mor\u001b[0m \u001b[0miterator\u001b[0m\u001b[1;33m:\u001b[0m\u001b[1;33m\u001b[0m\u001b[1;33m\u001b[0m\u001b[0m\n",
      "\u001b[1;32m~\\anaconda3\\lib\\site-packages\\pandas\\io\\parsers.py\u001b[0m in \u001b[0;36m__init__\u001b[1;34m(self, f, engine, **kwds)\u001b[0m\n\u001b[0;32m    817\u001b[0m             \u001b[0mself\u001b[0m\u001b[1;33m.\u001b[0m\u001b[0moptions\u001b[0m\u001b[1;33m[\u001b[0m\u001b[1;34m\"has_index_names\"\u001b[0m\u001b[1;33m]\u001b[0m \u001b[1;33m=\u001b[0m \u001b[0mkwds\u001b[0m\u001b[1;33m[\u001b[0m\u001b[1;34m\"has_index_names\"\u001b[0m\u001b[1;33m]\u001b[0m\u001b[1;33m\u001b[0m\u001b[1;33m\u001b[0m\u001b[0m\n\u001b[0;32m    818\u001b[0m \u001b[1;33m\u001b[0m\u001b[0m\n\u001b[1;32m--> 819\u001b[1;33m         \u001b[0mself\u001b[0m\u001b[1;33m.\u001b[0m\u001b[0m_engine\u001b[0m \u001b[1;33m=\u001b[0m \u001b[0mself\u001b[0m\u001b[1;33m.\u001b[0m\u001b[0m_make_engine\u001b[0m\u001b[1;33m(\u001b[0m\u001b[0mself\u001b[0m\u001b[1;33m.\u001b[0m\u001b[0mengine\u001b[0m\u001b[1;33m)\u001b[0m\u001b[1;33m\u001b[0m\u001b[1;33m\u001b[0m\u001b[0m\n\u001b[0m\u001b[0;32m    820\u001b[0m \u001b[1;33m\u001b[0m\u001b[0m\n\u001b[0;32m    821\u001b[0m     \u001b[1;32mdef\u001b[0m \u001b[0mclose\u001b[0m\u001b[1;33m(\u001b[0m\u001b[0mself\u001b[0m\u001b[1;33m)\u001b[0m\u001b[1;33m:\u001b[0m\u001b[1;33m\u001b[0m\u001b[1;33m\u001b[0m\u001b[0m\n",
      "\u001b[1;32m~\\anaconda3\\lib\\site-packages\\pandas\\io\\parsers.py\u001b[0m in \u001b[0;36m_make_engine\u001b[1;34m(self, engine)\u001b[0m\n\u001b[0;32m   1048\u001b[0m             )\n\u001b[0;32m   1049\u001b[0m         \u001b[1;31m# error: Too many arguments for \"ParserBase\"\u001b[0m\u001b[1;33m\u001b[0m\u001b[1;33m\u001b[0m\u001b[1;33m\u001b[0m\u001b[0m\n\u001b[1;32m-> 1050\u001b[1;33m         \u001b[1;32mreturn\u001b[0m \u001b[0mmapping\u001b[0m\u001b[1;33m[\u001b[0m\u001b[0mengine\u001b[0m\u001b[1;33m]\u001b[0m\u001b[1;33m(\u001b[0m\u001b[0mself\u001b[0m\u001b[1;33m.\u001b[0m\u001b[0mf\u001b[0m\u001b[1;33m,\u001b[0m \u001b[1;33m**\u001b[0m\u001b[0mself\u001b[0m\u001b[1;33m.\u001b[0m\u001b[0moptions\u001b[0m\u001b[1;33m)\u001b[0m  \u001b[1;31m# type: ignore[call-arg]\u001b[0m\u001b[1;33m\u001b[0m\u001b[1;33m\u001b[0m\u001b[0m\n\u001b[0m\u001b[0;32m   1051\u001b[0m \u001b[1;33m\u001b[0m\u001b[0m\n\u001b[0;32m   1052\u001b[0m     \u001b[1;32mdef\u001b[0m \u001b[0m_failover_to_python\u001b[0m\u001b[1;33m(\u001b[0m\u001b[0mself\u001b[0m\u001b[1;33m)\u001b[0m\u001b[1;33m:\u001b[0m\u001b[1;33m\u001b[0m\u001b[1;33m\u001b[0m\u001b[0m\n",
      "\u001b[1;32m~\\anaconda3\\lib\\site-packages\\pandas\\io\\parsers.py\u001b[0m in \u001b[0;36m__init__\u001b[1;34m(self, src, **kwds)\u001b[0m\n\u001b[0;32m   1865\u001b[0m \u001b[1;33m\u001b[0m\u001b[0m\n\u001b[0;32m   1866\u001b[0m         \u001b[1;31m# open handles\u001b[0m\u001b[1;33m\u001b[0m\u001b[1;33m\u001b[0m\u001b[1;33m\u001b[0m\u001b[0m\n\u001b[1;32m-> 1867\u001b[1;33m         \u001b[0mself\u001b[0m\u001b[1;33m.\u001b[0m\u001b[0m_open_handles\u001b[0m\u001b[1;33m(\u001b[0m\u001b[0msrc\u001b[0m\u001b[1;33m,\u001b[0m \u001b[0mkwds\u001b[0m\u001b[1;33m)\u001b[0m\u001b[1;33m\u001b[0m\u001b[1;33m\u001b[0m\u001b[0m\n\u001b[0m\u001b[0;32m   1868\u001b[0m         \u001b[1;32massert\u001b[0m \u001b[0mself\u001b[0m\u001b[1;33m.\u001b[0m\u001b[0mhandles\u001b[0m \u001b[1;32mis\u001b[0m \u001b[1;32mnot\u001b[0m \u001b[1;32mNone\u001b[0m\u001b[1;33m\u001b[0m\u001b[1;33m\u001b[0m\u001b[0m\n\u001b[0;32m   1869\u001b[0m         \u001b[1;32mfor\u001b[0m \u001b[0mkey\u001b[0m \u001b[1;32min\u001b[0m \u001b[1;33m(\u001b[0m\u001b[1;34m\"storage_options\"\u001b[0m\u001b[1;33m,\u001b[0m \u001b[1;34m\"encoding\"\u001b[0m\u001b[1;33m,\u001b[0m \u001b[1;34m\"memory_map\"\u001b[0m\u001b[1;33m,\u001b[0m \u001b[1;34m\"compression\"\u001b[0m\u001b[1;33m)\u001b[0m\u001b[1;33m:\u001b[0m\u001b[1;33m\u001b[0m\u001b[1;33m\u001b[0m\u001b[0m\n",
      "\u001b[1;32m~\\anaconda3\\lib\\site-packages\\pandas\\io\\parsers.py\u001b[0m in \u001b[0;36m_open_handles\u001b[1;34m(self, src, kwds)\u001b[0m\n\u001b[0;32m   1360\u001b[0m         \u001b[0mLet\u001b[0m \u001b[0mthe\u001b[0m \u001b[0mreaders\u001b[0m \u001b[0mopen\u001b[0m \u001b[0mIOHanldes\u001b[0m \u001b[0mafter\u001b[0m \u001b[0mthey\u001b[0m \u001b[0mare\u001b[0m \u001b[0mdone\u001b[0m \u001b[1;32mwith\u001b[0m \u001b[0mtheir\u001b[0m \u001b[0mpotential\u001b[0m \u001b[0mraises\u001b[0m\u001b[1;33m.\u001b[0m\u001b[1;33m\u001b[0m\u001b[1;33m\u001b[0m\u001b[0m\n\u001b[0;32m   1361\u001b[0m         \"\"\"\n\u001b[1;32m-> 1362\u001b[1;33m         self.handles = get_handle(\n\u001b[0m\u001b[0;32m   1363\u001b[0m             \u001b[0msrc\u001b[0m\u001b[1;33m,\u001b[0m\u001b[1;33m\u001b[0m\u001b[1;33m\u001b[0m\u001b[0m\n\u001b[0;32m   1364\u001b[0m             \u001b[1;34m\"r\"\u001b[0m\u001b[1;33m,\u001b[0m\u001b[1;33m\u001b[0m\u001b[1;33m\u001b[0m\u001b[0m\n",
      "\u001b[1;32m~\\anaconda3\\lib\\site-packages\\pandas\\io\\common.py\u001b[0m in \u001b[0;36mget_handle\u001b[1;34m(path_or_buf, mode, encoding, compression, memory_map, is_text, errors, storage_options)\u001b[0m\n\u001b[0;32m    640\u001b[0m                 \u001b[0merrors\u001b[0m \u001b[1;33m=\u001b[0m \u001b[1;34m\"replace\"\u001b[0m\u001b[1;33m\u001b[0m\u001b[1;33m\u001b[0m\u001b[0m\n\u001b[0;32m    641\u001b[0m             \u001b[1;31m# Encoding\u001b[0m\u001b[1;33m\u001b[0m\u001b[1;33m\u001b[0m\u001b[1;33m\u001b[0m\u001b[0m\n\u001b[1;32m--> 642\u001b[1;33m             handle = open(\n\u001b[0m\u001b[0;32m    643\u001b[0m                 \u001b[0mhandle\u001b[0m\u001b[1;33m,\u001b[0m\u001b[1;33m\u001b[0m\u001b[1;33m\u001b[0m\u001b[0m\n\u001b[0;32m    644\u001b[0m                 \u001b[0mioargs\u001b[0m\u001b[1;33m.\u001b[0m\u001b[0mmode\u001b[0m\u001b[1;33m,\u001b[0m\u001b[1;33m\u001b[0m\u001b[1;33m\u001b[0m\u001b[0m\n",
      "\u001b[1;31mFileNotFoundError\u001b[0m: [Errno 2] No such file or directory: 'C:\\\\Users\\\\chvsa\\\\Desktop\\\\ML Assignment\\\\Fish.csv'"
     ]
    }
   ],
   "source": [
    "import pandas as pd\n",
    "import numpy as np\n",
    "input_data = pd.read_csv(r\"C:\\Users\\chvsa\\Desktop\\ML Assignment\\Fish.csv\")\n",
    "print(input_data)\n",
    "print(type(input_data))"
   ]
  },
  {
   "cell_type": "code",
   "execution_count": null,
   "id": "1fd3df1c",
   "metadata": {},
   "outputs": [],
   "source": []
  },
  {
   "cell_type": "code",
   "execution_count": 443,
   "id": "f579ce7e",
   "metadata": {},
   "outputs": [],
   "source": []
  },
  {
   "cell_type": "code",
   "execution_count": 633,
   "id": "7081a454",
   "metadata": {},
   "outputs": [
    {
     "data": {
      "text/plain": [
       "array([[1., 0., 0., ..., 0., 0., 0.],\n",
       "       [1., 0., 0., ..., 0., 0., 0.],\n",
       "       [1., 0., 0., ..., 0., 0., 0.],\n",
       "       ...,\n",
       "       [0., 0., 0., ..., 0., 0., 0.],\n",
       "       [0., 0., 0., ..., 0., 0., 0.],\n",
       "       [0., 0., 0., ..., 0., 0., 0.]])"
      ]
     },
     "execution_count": 633,
     "metadata": {},
     "output_type": "execute_result"
    }
   ],
   "source": [
    "from sklearn.preprocessing import OneHotEncoder\n",
    "cat_encoder = OneHotEncoder()\n",
    "input_data_1hot = cat_encoder.fit_transform(input_data)\n",
    "input_data_1hot.toarray()"
   ]
  },
  {
   "cell_type": "code",
   "execution_count": 442,
   "id": "c7fa7c8c",
   "metadata": {},
   "outputs": [],
   "source": []
  },
  {
   "cell_type": "code",
   "execution_count": 634,
   "id": "c9634f7c",
   "metadata": {},
   "outputs": [
    {
     "data": {
      "text/plain": [
       "array([[0.3308679 , 0.36372707, 0.43243259, 0.1564156 , 0.04439572],\n",
       "       [0.34281669, 0.37716945, 0.45035578, 0.17075415, 0.04866144],\n",
       "       [0.34132309, 0.38015665, 0.44886218, 0.16922769, 0.05449394],\n",
       "       [0.37716945, 0.41749661, 0.48470854, 0.17448814, 0.05090034],\n",
       "       [0.38015665, 0.41749661, 0.49217653, 0.17021645, 0.06103441],\n",
       "       [0.38463744, 0.4279518 , 0.50263172, 0.1875183 , 0.05794863],\n",
       "       [0.38463744, 0.4279518 , 0.49964452, 0.19613785, 0.06319266],\n",
       "       [0.39658623, 0.43243259, 0.50711252, 0.17359198, 0.05440283],\n",
       "       [0.39658623, 0.43243259, 0.50860611, 0.19353003, 0.05669998],\n",
       "       [0.41002862, 0.44288778, 0.5250357 , 0.19684134, 0.05842658],\n",
       "       [0.40853502, 0.44736858, 0.5250357 , 0.19738202, 0.06058931],\n",
       "       [0.41301581, 0.44736858, 0.5250357 , 0.19900407, 0.05626385],\n",
       "       [0.41899021, 0.45483657, 0.52802289, 0.18986026, 0.04959344],\n",
       "       [0.4249646 , 0.46230456, 0.54146528, 0.19215592, 0.06012032],\n",
       "       [0.423471  , 0.46230456, 0.53997168, 0.20771175, 0.06158405],\n",
       "       [0.423471  , 0.46230456, 0.53997168, 0.21493479, 0.06769586],\n",
       "       [0.43840699, 0.47724055, 0.55640126, 0.20630776, 0.06329571],\n",
       "       [0.43840699, 0.47724055, 0.55938846, 0.2074668 , 0.06198284],\n",
       "       [0.44587498, 0.48470854, 0.56088206, 0.21784731, 0.06103142],\n",
       "       [0.44736858, 0.48470854, 0.56237566, 0.20053351, 0.06990041],\n",
       "       [0.45184937, 0.49217653, 0.57432445, 0.2103121 , 0.06753903],\n",
       "       [0.45334297, 0.49217653, 0.56984365, 0.22323322, 0.06456527],\n",
       "       [0.45483657, 0.49964452, 0.57731164, 0.21619987, 0.06321655],\n",
       "       [0.45931737, 0.50711252, 0.59075403, 0.21539183, 0.07591961],\n",
       "       [0.46081096, 0.50711252, 0.58926043, 0.22692092, 0.06783028],\n",
       "       [0.45931737, 0.50711252, 0.59523482, 0.22870577, 0.07476356],\n",
       "       [0.46230456, 0.50711252, 0.59075403, 0.22873265, 0.07531321],\n",
       "       [0.47275975, 0.5220485 , 0.60419641, 0.23105072, 0.07175098],\n",
       "       [0.47425335, 0.5220485 , 0.60569001, 0.23661586, 0.07693227],\n",
       "       [0.48470854, 0.53698448, 0.620626  , 0.26749452, 0.08297537],\n",
       "       [0.50711252, 0.55938846, 0.64302997, 0.25375192, 0.07854386],\n",
       "       [0.50711252, 0.55938846, 0.64153638, 0.2544554 , 0.07833028],\n",
       "       [0.5250357 , 0.57432445, 0.66095315, 0.2644655 , 0.08516648],\n",
       "       [0.54295888, 0.59672842, 0.66991475, 0.26269111, 0.08513063],\n",
       "       [0.55192047, 0.59672842, 0.67887634, 0.24757738, 0.07950275],\n",
       "       [0.17702726, 0.19495044, 0.22631601, 0.04629558, 0.01822788],\n",
       "       [0.2307968 , 0.25618798, 0.28755355, 0.06348839, 0.02649793],\n",
       "       [0.24573279, 0.26514957, 0.30099593, 0.06763014, 0.02773314],\n",
       "       [0.25618798, 0.28008555, 0.31593192, 0.06824251, 0.03176884],\n",
       "       [0.26216237, 0.28307275, 0.31593192, 0.07719514, 0.03773726],\n",
       "       [0.26813677, 0.29054074, 0.32489351, 0.08106655, 0.03441251],\n",
       "       [0.26963036, 0.29502154, 0.3293743 , 0.07647373, 0.03507118],\n",
       "       [0.27411116, 0.29800873, 0.33833589, 0.07568063, 0.03355668],\n",
       "       [0.28904714, 0.31294472, 0.35327188, 0.07104898, 0.04042872],\n",
       "       [0.29054074, 0.31294472, 0.34729748, 0.08343689, 0.03734295],\n",
       "       [0.29054074, 0.32041271, 0.36223347, 0.08940382, 0.041413  ],\n",
       "       [0.29800873, 0.32041271, 0.35775267, 0.08218376, 0.03401521],\n",
       "       [0.29950233, 0.32041271, 0.35775267, 0.07994336, 0.0411098 ],\n",
       "       [0.31294472, 0.34281669, 0.39061184, 0.09688674, 0.04163555],\n",
       "       [0.31294472, 0.3338551 , 0.38314385, 0.08763988, 0.03858861],\n",
       "       [0.31443832, 0.3353487 , 0.38463744, 0.09483155, 0.04599686],\n",
       "       [0.33684229, 0.36073987, 0.40106703, 0.09019841, 0.04269302],\n",
       "       [0.34281669, 0.37268866, 0.42048381, 0.11693681, 0.0515172 ],\n",
       "       [0.35775267, 0.38762464, 0.44139418, 0.11232458, 0.05565148],\n",
       "       [0.4249646 , 0.45782377, 0.50711252, 0.12602087, 0.06433526],\n",
       "       [0.33684229, 0.37268866, 0.41301581, 0.10952259, 0.04779515],\n",
       "       [0.34431029, 0.38015665, 0.4219774 , 0.10601263, 0.04780859],\n",
       "       [0.36671426, 0.40256063, 0.44438138, 0.11546113, 0.05427737],\n",
       "       [0.41002862, 0.44736858, 0.49217653, 0.14482528, 0.08236299],\n",
       "       [0.48769574, 0.52802289, 0.57581804, 0.16001816, 0.08253625],\n",
       "       [0.54146528, 0.58179244, 0.63406838, 0.16887221, 0.08181036],\n",
       "       [0.18598885, 0.20391203, 0.2307968 , 0.08662722, 0.01910163],\n",
       "       [0.19793764, 0.21586082, 0.24423919, 0.08259002, 0.01891792],\n",
       "       [0.22780961, 0.24871999, 0.28008555, 0.09495701, 0.02427695],\n",
       "       [0.24573279, 0.26813677, 0.30248953, 0.10969883, 0.02793776],\n",
       "       [0.25917518, 0.28307275, 0.31891911, 0.11717578, 0.03353427],\n",
       "       [0.26813677, 0.29352794, 0.3308679 , 0.11187052, 0.03355817],\n",
       "       [0.26813677, 0.29352794, 0.3308679 , 0.12469157, 0.03529074],\n",
       "       [0.28008555, 0.30547673, 0.34431029, 0.12977578, 0.03150746],\n",
       "       [0.30099593, 0.3278807 , 0.36970146, 0.13887777, 0.03907254],\n",
       "       [0.3278807 , 0.35775267, 0.40256063, 0.14996326, 0.04624778],\n",
       "       [0.34281669, 0.37268866, 0.41749661, 0.15414533, 0.04759202],\n",
       "       [0.09637295, 0.10981533, 0.11578973, 0.01589786, 0.00538293],\n",
       "       [0.17105287, 0.18897605, 0.20391203, 0.03704722, 0.01421308],\n",
       "       [0.19046965, 0.20839283, 0.22332881, 0.04146827, 0.02067738],\n",
       "       [0.20839283, 0.22631601, 0.24125199, 0.05294508, 0.0236586 ],\n",
       "       [0.21884802, 0.24423919, 0.26066877, 0.05287936, 0.02828726],\n",
       "       [0.22631601, 0.25320078, 0.27112396, 0.06235475, 0.03396443],\n",
       "       [0.2352776 , 0.26365597, 0.27411116, 0.06200823, 0.03100412],\n",
       "       [0.24125199, 0.26813677, 0.28605995, 0.06852928, 0.0299108 ],\n",
       "       [0.25021358, 0.27709836, 0.29502154, 0.06108818, 0.02971066],\n",
       "       [0.25618798, 0.28307275, 0.29800873, 0.06025774, 0.02575561],\n",
       "       [0.26813677, 0.29800873, 0.32041271, 0.06937615, 0.03745049],\n",
       "       [0.26813677, 0.29800873, 0.32041271, 0.07273675, 0.03375383],\n",
       "       [0.26813677, 0.29800873, 0.32041271, 0.06937615, 0.03913079],\n",
       "       [0.27261756, 0.30248953, 0.32489351, 0.07970439, 0.03713683],\n",
       "       [0.28307275, 0.31294472, 0.3353487 , 0.07561193, 0.03524743],\n",
       "       [0.28307275, 0.31294472, 0.3353487 , 0.06859201, 0.03700241],\n",
       "       [0.28307275, 0.31294472, 0.3353487 , 0.07561193, 0.03700241],\n",
       "       [0.28307275, 0.31294472, 0.3353487 , 0.07210197, 0.03700241],\n",
       "       [0.28307275, 0.31294472, 0.3353487 , 0.06683704, 0.04402232],\n",
       "       [0.29054074, 0.32041271, 0.34281669, 0.07181819, 0.03848107],\n",
       "       [0.29054074, 0.32041271, 0.34281669, 0.08579827, 0.03848107],\n",
       "       [0.29352794, 0.32339991, 0.34580388, 0.07326996, 0.03857069],\n",
       "       [0.29800873, 0.3278807 , 0.35028468, 0.0622965 , 0.03851094],\n",
       "       [0.30547673, 0.3353487 , 0.35775267, 0.07807636, 0.0399896 ],\n",
       "       [0.31294472, 0.34281669, 0.36522066, 0.0932812 , 0.03995973],\n",
       "       [0.31294472, 0.34281669, 0.36522066, 0.07956996, 0.0414832 ],\n",
       "       [0.32190631, 0.35177828, 0.37567585, 0.08492302, 0.04657339],\n",
       "       [0.3278807 , 0.35775267, 0.38015665, 0.08053333, 0.03936976],\n",
       "       [0.3353487 , 0.36671426, 0.38762464, 0.08234806, 0.0476667 ],\n",
       "       [0.35775267, 0.38015665, 0.40256063, 0.0914142 , 0.04624778],\n",
       "       [0.36073987, 0.39210544, 0.41301581, 0.10866526, 0.0610837 ],\n",
       "       [0.36372707, 0.39509263, 0.41600301, 0.09140225, 0.04910056],\n",
       "       [0.36372707, 0.39509263, 0.41600301, 0.08967565, 0.04910056],\n",
       "       [0.36372707, 0.39509263, 0.41600301, 0.09312885, 0.05255375],\n",
       "       [0.37119506, 0.40256063, 0.423471  , 0.10115843, 0.04714693],\n",
       "       [0.38613104, 0.41301581, 0.43392619, 0.09764549, 0.05358732],\n",
       "       [0.39957343, 0.43243259, 0.45633017, 0.09809955, 0.05562161],\n",
       "       [0.43990059, 0.47425335, 0.49217653, 0.13416099, 0.07423782],\n",
       "       [0.46230456, 0.49964452, 0.52951649, 0.13754399, 0.07975666],\n",
       "       [0.46977255, 0.50711252, 0.54146528, 0.15594363, 0.10078952],\n",
       "       [0.49217653, 0.52951649, 0.56685645, 0.14687151, 0.08687366],\n",
       "       [0.49217653, 0.5220485 , 0.55640126, 0.14281041, 0.08503355],\n",
       "       [0.49964452, 0.53698448, 0.57283085, 0.14618445, 0.07792103],\n",
       "       [0.50113812, 0.53698448, 0.57133725, 0.14225181, 0.0794445 ],\n",
       "       [0.52951649, 0.56685645, 0.60270282, 0.15068915, 0.09627437],\n",
       "       [0.52951649, 0.56685645, 0.60270282, 0.15068915, 0.07401378],\n",
       "       [0.53101009, 0.56685645, 0.60120922, 0.17002677, 0.09415346],\n",
       "       [0.53549089, 0.58179244, 0.6161452 , 0.16251845, 0.09049414],\n",
       "       [0.53698448, 0.58179244, 0.6191324 , 0.15955216, 0.09226555],\n",
       "       [0.53698448, 0.58179244, 0.6176388 , 0.1692725 , 0.09581135],\n",
       "       [0.53847808, 0.58179244, 0.6191324 , 0.15066525, 0.08337864],\n",
       "       [0.56685645, 0.61166441, 0.65049797, 0.17553665, 0.08693938],\n",
       "       [0.57880524, 0.62660039, 0.65945956, 0.16258118, 0.09304521],\n",
       "       [0.58328604, 0.62660039, 0.66394035, 0.17123957, 0.09512579],\n",
       "       [0.58477963, 0.63406838, 0.67140834, 0.17260621, 0.10596185],\n",
       "       [0.59822202, 0.64153638, 0.68036993, 0.17088558, 0.09780381],\n",
       "       [0.43243259, 0.46678536, 0.50412532, 0.06751662, 0.03477097],\n",
       "       [0.45782377, 0.49217653, 0.54893327, 0.06960467, 0.04645689],\n",
       "       [0.47275975, 0.50711252, 0.56386926, 0.07301904, 0.04983839],\n",
       "       [0.50412532, 0.54146528, 0.57880524, 0.07827651, 0.04439273],\n",
       "       [0.51458051, 0.55192047, 0.58926043, 0.09323639, 0.0527076 ],\n",
       "       [0.5220485 , 0.55938846, 0.59672842, 0.07988362, 0.04375347],\n",
       "       [0.58179244, 0.6191324 , 0.66394035, 0.09308703, 0.04891386],\n",
       "       [0.58179244, 0.6191324 , 0.66394035, 0.08629116, 0.05095262],\n",
       "       [0.58328604, 0.62660039, 0.66842115, 0.10064464, 0.06096869],\n",
       "       [0.61166441, 0.65647236, 0.70128031, 0.08830751, 0.05747964],\n",
       "       [0.62958759, 0.67140834, 0.7117355 , 0.10073425, 0.05709131],\n",
       "       [0.65348516, 0.70128031, 0.74907546, 0.09906142, 0.06464891],\n",
       "       [0.70576111, 0.75654345, 0.8073258 , 0.11767465, 0.07652601],\n",
       "       [0.76102425, 0.82076819, 0.87603133, 0.14396347, 0.08867942],\n",
       "       [0.82076819, 0.88051213, 0.94025606, 0.12773851, 0.07611975],\n",
       "       [0.82076819, 0.88051213, 0.94025606, 0.12773851, 0.07611975],\n",
       "       [0.86557614, 0.93129447, 1.        , 0.14584093, 0.09607423],\n",
       "       [0.12325772, 0.13072571, 0.14566169, 0.01032375, 0.        ],\n",
       "       [0.13371291, 0.1411809 , 0.15761048, 0.01380682, 0.0016788 ],\n",
       "       [0.1352065 , 0.1426745 , 0.15761048, 0.01016842, 0.00150555],\n",
       "       [0.1396873 , 0.14864889, 0.16358488, 0.01715248, 0.00496472],\n",
       "       [0.1441681 , 0.15163609, 0.16955927, 0.01546771, 0.0034293 ],\n",
       "       [0.14566169, 0.15312969, 0.17254647, 0.01389943, 0.00354879],\n",
       "       [0.15312969, 0.16059768, 0.18001446, 0.01741984, 0.00352788],\n",
       "       [0.15312969, 0.16059768, 0.18001446, 0.01741984, 0.00176693],\n",
       "       [0.15462328, 0.16358488, 0.18150806, 0.01727795, 0.00150555],\n",
       "       [0.15611688, 0.16657207, 0.18449525, 0.01557524, 0.00516785],\n",
       "       [0.15910408, 0.16955927, 0.18598885, 0.0206475 , 0.00330683],\n",
       "       [0.16507847, 0.17852086, 0.19046965, 0.0183623 , 0.00310967],\n",
       "       [0.18150806, 0.19793764, 0.21138003, 0.02726116, 0.01522873],\n",
       "       [0.19046965, 0.20839283, 0.22631601, 0.02814836, 0.01242076]])"
      ]
     },
     "execution_count": 634,
     "metadata": {},
     "output_type": "execute_result"
    }
   ],
   "source": [
    "import pandas as pd\n",
    "import numpy as np\n",
    "input_data = input_data[['Length1','Length2','Length3','Height','Width']].values.astype(float)\n",
    "input_data_std = (input_data - input_data.min()) / (input_data.max() - input_data.min())\n",
    "input_data_std\n",
    "\n",
    "\n",
    "\n",
    "\n",
    "\n"
   ]
  },
  {
   "cell_type": "markdown",
   "id": "b4391fb4",
   "metadata": {},
   "source": []
  },
  {
   "cell_type": "code",
   "execution_count": 635,
   "id": "2a11163c",
   "metadata": {},
   "outputs": [
    {
     "name": "stdout",
     "output_type": "stream",
     "text": [
      "     Weight  Length1  Length2  Length3   Height   Width\n",
      "114   700.0     34.5     37.0     39.4  10.8350  6.2646\n",
      "25    725.0     31.8     35.0     40.9  16.3600  6.0532\n",
      "130   300.0     32.7     35.0     38.8   5.9364  4.3844\n",
      "63     90.0     16.3     17.7     19.8   7.4052  2.6730\n",
      "32    925.0     36.2     39.5     45.3  18.7542  6.7497\n",
      "..      ...      ...      ...      ...      ...     ...\n",
      "42    120.0     19.4     21.0     23.7   6.1146  3.2943\n",
      "68    145.0     19.8     21.5     24.1   9.7364  3.1571\n",
      "16    700.0     30.4     33.0     38.3  14.8604  5.2854\n",
      "105   250.0     25.4     27.5     28.9   7.2828  4.5662\n",
      "26    720.0     32.0     35.0     40.6  16.3618  6.0900\n",
      "\n",
      "[95 rows x 6 columns]\n",
      "114    700.0\n",
      "25     725.0\n",
      "130    300.0\n",
      "63      90.0\n",
      "32     925.0\n",
      "       ...  \n",
      "42     120.0\n",
      "68     145.0\n",
      "16     700.0\n",
      "105    250.0\n",
      "26     720.0\n",
      "Name: Weight, Length: 95, dtype: float64\n"
     ]
    },
    {
     "data": {
      "text/plain": [
       "<function sklearn.model_selection._split.train_test_split(*arrays, test_size=None, train_size=None, random_state=None, shuffle=True, stratify=None)>"
      ]
     },
     "execution_count": 635,
     "metadata": {},
     "output_type": "execute_result"
    }
   ],
   "source": [
    "import pandas as pd\n",
    "import numpy as np\n",
    "#from sklearn.cross_validation import train_test_split\n",
    "#output_data=Weight\n",
    "# Selecting the features\n",
    "features = ['Weight','Length1','Length2','Length3','Height','Width']\n",
    "fish= df[features]\n",
    "\n",
    "# Target Variable\n",
    "y = df['Weight']\n",
    "fish_train, fish_test, y_train, y_test = train_test_split(fish, y, test_size = 0.40, random_state = 200 )\n",
    "#input_data_train, input_data_test = train_test_split(input_data, test_size = 0.4, random_state = 200)\n",
    "print(fish_train)\n",
    "print(y_train)\n",
    "\n",
    "train_test_split\n",
    "\n",
    "\n"
   ]
  },
  {
   "cell_type": "code",
   "execution_count": 649,
   "id": "7143505d",
   "metadata": {},
   "outputs": [
    {
     "data": {
      "text/plain": [
       "array([279.41568507, 321.5384325 , 471.46980074, 524.94488805,\n",
       "       293.18532177, 496.98509667, 361.73762044, 443.78202425,\n",
       "       287.78184265, 463.07601266, 488.80422716, 265.75266554,\n",
       "       383.38924582, 296.67704992, 379.38323316, 265.86264158,\n",
       "       401.56988483, 394.02237605, 485.33766073, 368.0944587 ,\n",
       "       341.31696278, 468.9841164 , 392.14955242, 470.81857909,\n",
       "       461.61743689, 326.3129835 , 423.79246362, 392.1855266 ,\n",
       "       318.36790693, 444.94184495, 262.45454483, 457.92287637,\n",
       "       312.76576988, 267.57729938, 340.89383334, 556.68668957,\n",
       "       246.0585668 , 293.61921216, 403.76857951, 326.96083437,\n",
       "       530.57457624, 340.73242023, 297.80634639, 307.32981702,\n",
       "       337.42652847, 494.04337901, 452.55603397, 499.0220432 ,\n",
       "       361.92258331, 406.74293781, 281.2091548 , 325.31706612,\n",
       "       335.72984065, 459.79119814, 272.93178441, 442.83976571,\n",
       "       296.71255572, 503.1243035 , 315.08748535, 441.05731203,\n",
       "       246.33015242, 491.47588528, 457.41081405, 326.88768422])"
      ]
     },
     "execution_count": 649,
     "metadata": {},
     "output_type": "execute_result"
    }
   ],
   "source": [
    "import pandas as pd\n",
    "import numpy as np\n",
    "from sklearn.linear_model import LinearRegression\n",
    "from sklearn.model_selection import train_test_split\n",
    "from sklearn.linear_model import LinearRegression \n",
    "from sklearn.metrics import mean_squared_error\n",
    "# from sklearn.linear_model import LinearRegression\n",
    "regressor = LinearRegression()\n",
    "regressor.fit(fish_train,y_train) #actually produces the linear eqn for the data\n",
    "y_pred = regressor.predict(fish_test) \n",
    "y_pred"
   ]
  },
  {
   "cell_type": "code",
   "execution_count": 642,
   "id": "c35077d4",
   "metadata": {},
   "outputs": [
    {
     "name": "stdout",
     "output_type": "stream",
     "text": [
      "Mean Absolute Error: 2.3743507160389754e-13\n",
      "Mean Squared Error: 1.0296992767683716e-25\n"
     ]
    }
   ],
   "source": [
    "from sklearn import metrics\n",
    "print('Mean Absolute Error:', metrics.mean_absolute_error(y_test, y_pred))\n",
    "print('Mean Squared Error:', metrics.mean_squared_error(y_test, y_pred))\n",
    "# print('Root Mean Squared training Error:', np.sqrt(metrics.mean_squared_error(y_train, y_pred)))\n",
    "# print('Root Mean Squared test Error:', np.sqrt(metrics.mean_squared_error(y_test, y_pred)))"
   ]
  },
  {
   "cell_type": "code",
   "execution_count": 643,
   "id": "79c696db",
   "metadata": {},
   "outputs": [
    {
     "name": "stdout",
     "output_type": "stream",
     "text": [
      "     Weight  Length1  Length2  Length3   Height   Width\n",
      "114   700.0     34.5     37.0     39.4  10.8350  6.2646\n",
      "25    725.0     31.8     35.0     40.9  16.3600  6.0532\n",
      "130   300.0     32.7     35.0     38.8   5.9364  4.3844\n",
      "63     90.0     16.3     17.7     19.8   7.4052  2.6730\n",
      "32    925.0     36.2     39.5     45.3  18.7542  6.7497\n",
      "..      ...      ...      ...      ...      ...     ...\n",
      "42    120.0     19.4     21.0     23.7   6.1146  3.2943\n",
      "68    145.0     19.8     21.5     24.1   9.7364  3.1571\n",
      "16    700.0     30.4     33.0     38.3  14.8604  5.2854\n",
      "105   250.0     25.4     27.5     28.9   7.2828  4.5662\n",
      "26    720.0     32.0     35.0     40.6  16.3618  6.0900\n",
      "\n",
      "[95 rows x 6 columns]\n",
      "[[1.00000000e+00 7.00000000e+02 3.45000000e+01 ... 2.41363460e+24\n",
      "  1.39551964e+24 8.06864084e+23]\n",
      " [1.00000000e+00 7.25000000e+02 3.18000000e+01 ... 2.10449188e+24\n",
      "  7.78661995e+23 2.88104938e+23]\n",
      " [1.00000000e+00 3.00000000e+02 3.27000000e+01 ... 3.31536270e+19\n",
      "  2.44860121e+19 1.80844403e+19]\n",
      " ...\n",
      " [1.00000000e+00 7.00000000e+02 3.04000000e+01 ... 3.89261175e+22\n",
      "  1.38448562e+22 4.92420144e+21]\n",
      " [1.00000000e+00 2.50000000e+02 2.54000000e+01 ... 1.55644866e+20\n",
      "  9.75868602e+19 6.11854124e+19]\n",
      " [1.00000000e+00 7.20000000e+02 3.20000000e+01 ... 2.49428660e+24\n",
      "  9.28394515e+23 3.45556271e+23]]\n",
      "     Weight  Length1  Length2  Length3   Height   Width\n",
      "114   700.0     34.5     37.0     39.4  10.8350  6.2646\n",
      "25    725.0     31.8     35.0     40.9  16.3600  6.0532\n",
      "130   300.0     32.7     35.0     38.8   5.9364  4.3844\n",
      "63     90.0     16.3     17.7     19.8   7.4052  2.6730\n",
      "32    925.0     36.2     39.5     45.3  18.7542  6.7497\n",
      "..      ...      ...      ...      ...      ...     ...\n",
      "42    120.0     19.4     21.0     23.7   6.1146  3.2943\n",
      "68    145.0     19.8     21.5     24.1   9.7364  3.1571\n",
      "16    700.0     30.4     33.0     38.3  14.8604  5.2854\n",
      "105   250.0     25.4     27.5     28.9   7.2828  4.5662\n",
      "26    720.0     32.0     35.0     40.6  16.3618  6.0900\n",
      "\n",
      "[95 rows x 6 columns]\n"
     ]
    }
   ],
   "source": [
    "from sklearn.preprocessing import PolynomialFeatures\n",
    "from sklearn.linear_model import LinearRegression\n",
    "poly=PolynomialFeatures(degree=30)\n",
    "fish_train_poly=poly.fit_transform(fish_train)\n",
    "fish_test_poly = poly.fit_transform(fish_test)\n",
    "print(fish_train)\n",
    "fish_train_poly[0]\n",
    "poly_model =LinearRegression()\n",
    "print(fish_train_poly)\n",
    "print(fish_train)"
   ]
  },
  {
   "cell_type": "code",
   "execution_count": 459,
   "id": "5d744fd9",
   "metadata": {},
   "outputs": [],
   "source": []
  },
  {
   "cell_type": "code",
   "execution_count": 644,
   "id": "50fc4241",
   "metadata": {},
   "outputs": [
    {
     "name": "stdout",
     "output_type": "stream",
     "text": [
      "Root Mean Squared training Error: 417.503869190985\n",
      "Root Mean Squared test Error: 791742055940.1473\n"
     ]
    }
   ],
   "source": [
    "poly_model.fit(fish_train_poly, y_train)\n",
    "poly_model.coef_\n",
    "poly_model.intercept_\n",
    "poly_train_pred = poly_model.predict(fish_train_poly)\n",
    "poly_test_pred = poly_model.predict(fish_test_poly)\n",
    "poly_train_pred = poly_model.predict(fish_train_poly)\n",
    "poly_test_pred = poly_model.predict(fish_test_poly)\n",
    "\n",
    "print('Root Mean Squared training Error:', np.sqrt(metrics.mean_squared_error(y_train, poly_train_pred)))\n",
    "print('Root Mean Squared test Error:', np.sqrt(metrics.mean_squared_error(y_test, poly_test_pred)))"
   ]
  },
  {
   "cell_type": "markdown",
   "id": "fe9c153e",
   "metadata": {},
   "source": []
  },
  {
   "cell_type": "code",
   "execution_count": 645,
   "id": "21b455ec",
   "metadata": {},
   "outputs": [
    {
     "name": "stdout",
     "output_type": "stream",
     "text": [
      "     Weight  Length1  Length2  Length3   Height   Width\n",
      "40      0.0     19.0     20.5     22.8   6.4752  3.3516\n",
      "113   700.0     34.0     36.0     38.3  10.6091  6.7408\n",
      "125  1100.0     40.1     43.0     45.5  12.5125  7.4165\n",
      "156    12.2     12.1     13.0     13.8   2.2770  1.2558\n",
      "8     450.0     27.6     30.0     35.1  14.0049  4.8438\n",
      "..      ...      ...      ...      ...      ...     ...\n",
      "6     500.0     26.8     29.7     34.5  14.1795  5.2785\n",
      "151    10.0     11.3     11.8     13.1   2.2139  1.2838\n",
      "140   950.0     48.3     51.7     55.1   8.9262  6.1712\n",
      "62     60.0     14.3     15.5     17.4   6.5772  2.3142\n",
      "92    150.0     20.5     22.5     24.0   6.7920  3.6240\n",
      "\n",
      "[95 rows x 6 columns]\n",
      "142         Pike\n",
      "58     Whitefish\n",
      "106        Perch\n",
      "96         Perch\n",
      "54         Roach\n",
      "         ...    \n",
      "150        Smelt\n",
      "47         Roach\n",
      "21         Bream\n",
      "29         Bream\n",
      "41         Roach\n",
      "Name: Species, Length: 95, dtype: object\n"
     ]
    },
    {
     "data": {
      "text/plain": [
       "<function sklearn.model_selection._split.train_test_split(*arrays, test_size=None, train_size=None, random_state=None, shuffle=True, stratify=None)>"
      ]
     },
     "execution_count": 645,
     "metadata": {},
     "output_type": "execute_result"
    }
   ],
   "source": [
    "import pandas as pd\n",
    "import numpy as np\n",
    "#from sklearn.cross_validation import train_test_split\n",
    "#output_data=Weight\n",
    "# Selecting the features\n",
    "variables = ['Weight','Length1','Length2','Length3','Height','Width']\n",
    "fish= df[variables]\n",
    "\n",
    "# Target Variable\n",
    "s = df['Species']\n",
    "fish_train, fish_test, y_train, y_test = train_test_split(fish, y, test_size = 0.40, random_state = 400 )\n",
    "#input_data_train, input_data_test = train_test_split(input_data, test_size = 0.4, random_state = 200)\n",
    "print(fish_train)\n",
    "print(s_train)\n",
    "train_test_split\n"
   ]
  },
  {
   "cell_type": "code",
   "execution_count": 646,
   "id": "14b8bae7",
   "metadata": {},
   "outputs": [
    {
     "name": "stdout",
     "output_type": "stream",
     "text": [
      "Confusion Matrix\n",
      "[[16  0  0  0  0  0  0]\n",
      " [ 3  0  0  0  0  0  0]\n",
      " [19  0  0  0  0  1  5]\n",
      " [ 7  0  0  0  0  0  0]\n",
      " [ 6  0  0  0  0  0  2]\n",
      " [ 0  3  0  0  0  0  0]\n",
      " [ 2  0  0  0  0  0  0]]\n",
      "\n",
      "Classification Report\n",
      "              precision    recall  f1-score   support\n",
      "\n",
      "       Bream       0.30      1.00      0.46        16\n",
      "      Parkki       0.00      0.00      0.00         3\n",
      "       Perch       0.00      0.00      0.00        25\n",
      "        Pike       0.00      0.00      0.00         7\n",
      "       Roach       0.00      0.00      0.00         8\n",
      "       Smelt       0.00      0.00      0.00         3\n",
      "   Whitefish       0.00      0.00      0.00         2\n",
      "\n",
      "    accuracy                           0.25        64\n",
      "   macro avg       0.04      0.14      0.07        64\n",
      "weighted avg       0.08      0.25      0.12        64\n",
      "\n"
     ]
    },
    {
     "name": "stderr",
     "output_type": "stream",
     "text": [
      "C:\\Users\\chvsa\\anaconda3\\lib\\site-packages\\sklearn\\metrics\\_classification.py:1245: UndefinedMetricWarning: Precision and F-score are ill-defined and being set to 0.0 in labels with no predicted samples. Use `zero_division` parameter to control this behavior.\n",
      "  _warn_prf(average, modifier, msg_start, len(result))\n",
      "C:\\Users\\chvsa\\anaconda3\\lib\\site-packages\\sklearn\\metrics\\_classification.py:1245: UndefinedMetricWarning: Precision and F-score are ill-defined and being set to 0.0 in labels with no predicted samples. Use `zero_division` parameter to control this behavior.\n",
      "  _warn_prf(average, modifier, msg_start, len(result))\n",
      "C:\\Users\\chvsa\\anaconda3\\lib\\site-packages\\sklearn\\metrics\\_classification.py:1245: UndefinedMetricWarning: Precision and F-score are ill-defined and being set to 0.0 in labels with no predicted samples. Use `zero_division` parameter to control this behavior.\n",
      "  _warn_prf(average, modifier, msg_start, len(result))\n"
     ]
    }
   ],
   "source": [
    "# Splitting the dataset into the training and test set\n",
    "fish_train, fish_test, s_train, s_test = train_test_split(fish, s, test_size = 0.40, random_state = 200 )\n",
    "# Fitting SGD Classifier to the Training set\n",
    "model = SGDClassifier(loss=\"hinge\", alpha=0.01, max_iter=200)\n",
    "model.fit(fish_train, s_train)\n",
    "# Predicting the results\n",
    "s_pred = model.predict(fish_test)\n",
    "# Confusion matrix\n",
    "print(\"Confusion Matrix\")\n",
    "matrix = confusion_matrix(s_test, s_pred)\n",
    "print(matrix)\n",
    "# Classification Report\n",
    "print(\"\\nClassification Report\")\n",
    "report = classification_report(s_test, s_pred)\n",
    "print(report)\n",
    "# Accuracy of the model\n",
    "accuracy = accuracy_score(s_test, s_pred)\n",
    "# print('SGD Classifier Accuracy of the model: {:.2f}%'.format(accuracy*100))"
   ]
  },
  {
   "cell_type": "code",
   "execution_count": 647,
   "id": "47e44c9f",
   "metadata": {
    "scrolled": true
   },
   "outputs": [
    {
     "name": "stdout",
     "output_type": "stream",
     "text": [
      "KNeighborsClassifier(n_neighbors=40)\n",
      "Score:  0.4\n",
      "[[15  0  1  0  1  0]\n",
      " [ 0  0  6  0  0  0]\n",
      " [ 5  0 14  0  1  0]\n",
      " [ 6  0  3  0  0  0]\n",
      " [ 0  0  6  0  0  0]\n",
      " [ 0  0  6  0  0  0]]\n",
      "              precision    recall  f1-score   support\n",
      "\n",
      "       Bream       0.58      0.88      0.70        17\n",
      "      Parkki       0.00      0.00      0.00         6\n",
      "       Perch       0.39      0.70      0.50        20\n",
      "        Pike       0.00      0.00      0.00         9\n",
      "       Roach       0.00      0.00      0.00         6\n",
      "       Smelt       0.00      0.00      0.00         6\n",
      "\n",
      "    accuracy                           0.45        64\n",
      "   macro avg       0.16      0.26      0.20        64\n",
      "weighted avg       0.27      0.45      0.34        64\n",
      "\n"
     ]
    },
    {
     "name": "stderr",
     "output_type": "stream",
     "text": [
      "C:\\Users\\chvsa\\anaconda3\\lib\\site-packages\\sklearn\\metrics\\_classification.py:1245: UndefinedMetricWarning: Precision and F-score are ill-defined and being set to 0.0 in labels with no predicted samples. Use `zero_division` parameter to control this behavior.\n",
      "  _warn_prf(average, modifier, msg_start, len(result))\n",
      "C:\\Users\\chvsa\\anaconda3\\lib\\site-packages\\sklearn\\metrics\\_classification.py:1245: UndefinedMetricWarning: Precision and F-score are ill-defined and being set to 0.0 in labels with no predicted samples. Use `zero_division` parameter to control this behavior.\n",
      "  _warn_prf(average, modifier, msg_start, len(result))\n",
      "C:\\Users\\chvsa\\anaconda3\\lib\\site-packages\\sklearn\\metrics\\_classification.py:1245: UndefinedMetricWarning: Precision and F-score are ill-defined and being set to 0.0 in labels with no predicted samples. Use `zero_division` parameter to control this behavior.\n",
      "  _warn_prf(average, modifier, msg_start, len(result))\n"
     ]
    }
   ],
   "source": [
    "from sklearn.neighbors import KNeighborsClassifier\n",
    "from sklearn.datasets import load_iris\n",
    "from sklearn.datasets import make_classification\n",
    "from sklearn.model_selection import train_test_split\n",
    "from sklearn.metrics import confusion_matrix\n",
    "from sklearn.metrics import classification_report\n",
    "fish_train, fish_test, s_train, s_test=train_test_split(fish, s, test_size=0.40)\n",
    "\n",
    "knc = KNeighborsClassifier(n_neighbors=40)\n",
    "print(knc)\n",
    "\n",
    "knc.fit(fish_train, s_train)\n",
    "score = knc.score(fish_train, s_train)\n",
    "print(\"Score: \", score)\n",
    "\n",
    "s_pred = knc.predict(fish_test)\n",
    "\n",
    "cm = confusion_matrix(s_test, s_pred)\n",
    "print(cm)\n",
    "\n",
    "cr = classification_report(s_test, s_pred)\n",
    "print(cr)"
   ]
  },
  {
   "cell_type": "code",
   "execution_count": null,
   "id": "ee62509b",
   "metadata": {},
   "outputs": [],
   "source": []
  }
 ],
 "metadata": {
  "kernelspec": {
   "display_name": "Python 3",
   "language": "python",
   "name": "python3"
  },
  "language_info": {
   "codemirror_mode": {
    "name": "ipython",
    "version": 3
   },
   "file_extension": ".py",
   "mimetype": "text/x-python",
   "name": "python",
   "nbconvert_exporter": "python",
   "pygments_lexer": "ipython3",
   "version": "3.8.8"
  }
 },
 "nbformat": 4,
 "nbformat_minor": 5
}
