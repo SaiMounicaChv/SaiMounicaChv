{
  "nbformat": 4,
  "nbformat_minor": 0,
  "metadata": {
    "colab": {
      "provenance": [],
      "collapsed_sections": []
    },
    "kernelspec": {
      "name": "python3",
      "display_name": "Python 3"
    },
    "language_info": {
      "name": "python"
    }
  },
  "cells": [
    {
      "cell_type": "code",
      "metadata": {
        "id": "JEHkdk5Z3vma"
      },
      "source": [
        "from google.colab import drive\n",
        "#drive.mount('/content/drive')"
      ],
      "execution_count": null,
      "outputs": []
    },
    {
      "cell_type": "code",
      "metadata": {
        "colab": {
          "base_uri": "https://localhost:8080/"
        },
        "id": "3EIV-QTm3ygP",
        "outputId": "2807d28f-aa72-4a3a-a9b0-86818f2299ff"
      },
      "source": [
        "drive.mount('/content/drive')"
      ],
      "execution_count": null,
      "outputs": [
        {
          "output_type": "stream",
          "name": "stdout",
          "text": [
            "Mounted at /content/drive\n"
          ]
        }
      ]
    },
    {
      "cell_type": "code",
      "metadata": {
        "colab": {
          "base_uri": "https://localhost:8080/"
        },
        "id": "pSTY0mmJA6-O",
        "outputId": "d7c24798-7fd8-40c9-c8a6-24e451aff53d"
      },
      "source": [
        "from google.colab import files\n",
        "import pandas as pd\n",
        "import io\n",
        "import matplotlib.pyplot as plt\n",
        "from sklearn import linear_model\n",
        "import numpy as np\n",
        "import pandas as pd\n",
        "from sklearn.svm import SVC\n",
        "from sklearn.preprocessing import LabelEncoder, OneHotEncoder, MinMaxScaler, PolynomialFeatures, StandardScaler\n",
        "from sklearn import preprocessing, metrics\n",
        "from sklearn.model_selection import train_test_split\n",
        "from sklearn.compose import ColumnTransformer\n",
        "from sklearn.neighbors import KNeighborsClassifier\n",
        "from sklearn.datasets import load_iris\n",
        "from sklearn.datasets import make_classification\n",
        "from sklearn.model_selection import train_test_split\n",
        "from sklearn.pipeline import Pipeline\n",
        "from sklearn.metrics import confusion_matrix\n",
        "from sklearn.metrics import classification_report\n",
        "from sklearn.metrics import confusion_matrix, accuracy_score, classification_report, f1_score\n",
        "from sklearn.metrics import precision_score\n",
        "from sklearn.model_selection import  GridSearchCV\n",
        "from sklearn.neighbors import KNeighborsClassifier\n",
        "from pandas import DataFrame\n",
        "from sklearn.metrics import classification_report\n",
        "from sklearn.tree import DecisionTreeClassifier\n",
        "\n",
        "#uploading the data\n",
        "\n",
        "input_data = pd.read_csv(\"/content/drive/My Drive/HW2ML.csv\")\n",
        "input_data.head()\n",
        "\n",
        "# data.head()\n",
        "\n",
        "input_data.isnull().any()\n",
        "input_data['emotion'].unique()\n",
        "df = DataFrame(input_data)\n",
        "data_dictionay = {0:'anger', 1:'disgust', 2:'fear', 3:'happiness', 4: 'sadness', 5: 'surprise', 6: 'neutral'}\n",
        "\n",
        "input_data['emotion'].value_counts()\n",
        "\n",
        "input_data.dtypes"
      ],
      "execution_count": null,
      "outputs": [
        {
          "output_type": "execute_result",
          "data": {
            "text/plain": [
              "emotion     int64\n",
              " Usage     object\n",
              " pixels    object\n",
              "dtype: object"
            ]
          },
          "metadata": {},
          "execution_count": 21
        }
      ]
    },
    {
      "cell_type": "code",
      "metadata": {
        "colab": {
          "base_uri": "https://localhost:8080/"
        },
        "id": "GobpMpw3CsvG",
        "outputId": "77df0b02-685e-4be4-c056-7f83e352be8e"
      },
      "source": [
        "# assigning variables to the data\n",
        "y = input_data['emotion']\n",
        "\n",
        "x=input_data[' pixels'].apply(lambda x : np.array(x.split(' ')).astype(float))\n",
        "\n",
        "B.shape  \n",
        " "
      ],
      "execution_count": null,
      "outputs": [
        {
          "output_type": "execute_result",
          "data": {
            "text/plain": [
              "(250, 2304)"
            ]
          },
          "metadata": {},
          "execution_count": 13
        }
      ]
    },
    {
      "cell_type": "code",
      "metadata": {
        "colab": {
          "base_uri": "https://localhost:8080/"
        },
        "id": "WzYt77hYD8xU",
        "outputId": "249b3c4c-77cf-4dc5-8642-48751eee06d1"
      },
      "source": [
        "#printing pixel values \n",
        "\n",
        "x = np.stack(x, axis=0)\n",
        "print(x)"
      ],
      "execution_count": null,
      "outputs": [
        {
          "output_type": "stream",
          "name": "stdout",
          "text": [
            "[[ 70.  80.  82. ... 106. 109.  82.]\n",
            " [151. 150. 147. ... 193. 183. 184.]\n",
            " [231. 212. 156. ...  88. 110. 152.]\n",
            " ...\n",
            " [ 10.  11.  11. ...  13.  16.  21.]\n",
            " [148. 151. 149. ... 184. 182. 180.]\n",
            " [ 43.  42.  36. ... 103.  97.  95.]]\n"
          ]
        }
      ]
    },
    {
      "cell_type": "code",
      "metadata": {
        "id": "qljrZQ27EOwV"
      },
      "source": [
        "#diving the data test and train set and printing the data \n",
        "\n",
        "x_train, x_test, y_train, y_test = train_test_split(x, y, test_size=0.25, random_state=35)\n",
        "# print(B_train)\n",
        "# print(B_test)\n",
        "# print(a_train)\n",
        "# print(a_test)\n"
      ],
      "execution_count": null,
      "outputs": []
    },
    {
      "cell_type": "code",
      "metadata": {
        "colab": {
          "base_uri": "https://localhost:8080/"
        },
        "id": "8mqmlTJZJXp8",
        "outputId": "079163db-5704-44a6-f5e5-b81383d298da"
      },
      "source": [
        "#alling the lenghts of the data for easy computation\n",
        "\n",
        "len(x_train)  == len(y_train)\n",
        "\n",
        "print(len(x_train))\n",
        "print(len(y_train))\n",
        "\n"
      ],
      "execution_count": null,
      "outputs": [
        {
          "output_type": "stream",
          "name": "stdout",
          "text": [
            "187\n",
            "187\n"
          ]
        }
      ]
    },
    {
      "cell_type": "markdown",
      "metadata": {
        "id": "pSSd9_sRvPby"
      },
      "source": [
        "# SVM POLYNOMIAL"
      ]
    },
    {
      "cell_type": "code",
      "metadata": {
        "id": "aYVFnPwrvLQ2",
        "colab": {
          "base_uri": "https://localhost:8080/",
          "height": 374
        },
        "outputId": "c688e640-53c1-4020-c468-522ee7f5def8"
      },
      "source": [
        "svm_poly_estimator = Pipeline(steps=[('scaler', StandardScaler()), ('estimator', SVC())])\n",
        "\n",
        "svm_poly_params = [{'estimator__kernel': [\"poly\"],        \n",
        "                   'estimator__degree': [5,10,40],        \n",
        "                   'estimator__C': [0.1,10,1000],    \n",
        "                   'estimator__gamma': [.00001,.0001,.01,1,1.5]}] \n",
        "        \n",
        "\n",
        "svm_poly_grid = GridSearchCV(estimator=svm_poly_estimator,\n",
        "                       param_grid=svm_poly_params,\n",
        "                       cv=5,\n",
        "                       n_jobs=-1,)\n",
        "\n",
        "svm_poly_grid.fit(B_train, a_train) \n",
        "\n",
        "\n",
        "print('svm_poly F1: ', f1_score(a,svm_poly_grid.predict(B), average='micro'))\n",
        "print('best svm_poly_parameters', svm_poly_grid.best_estimator_)"
      ],
      "execution_count": null,
      "outputs": [
        {
          "output_type": "error",
          "ename": "KeyboardInterrupt",
          "evalue": "ignored",
          "traceback": [
            "\u001b[0;31m---------------------------------------------------------------------------\u001b[0m",
            "\u001b[0;31mKeyboardInterrupt\u001b[0m                         Traceback (most recent call last)",
            "\u001b[0;32m<ipython-input-30-32bbeabf21c3>\u001b[0m in \u001b[0;36m<module>\u001b[0;34m()\u001b[0m\n\u001b[1;32m     12\u001b[0m                        n_jobs=-1,)\n\u001b[1;32m     13\u001b[0m \u001b[0;34m\u001b[0m\u001b[0m\n\u001b[0;32m---> 14\u001b[0;31m \u001b[0msvm_poly_grid\u001b[0m\u001b[0;34m.\u001b[0m\u001b[0mfit\u001b[0m\u001b[0;34m(\u001b[0m\u001b[0mB_train\u001b[0m\u001b[0;34m,\u001b[0m \u001b[0ma_train\u001b[0m\u001b[0;34m)\u001b[0m\u001b[0;34m\u001b[0m\u001b[0;34m\u001b[0m\u001b[0m\n\u001b[0m\u001b[1;32m     15\u001b[0m \u001b[0;34m\u001b[0m\u001b[0m\n\u001b[1;32m     16\u001b[0m \u001b[0;34m\u001b[0m\u001b[0m\n",
            "\u001b[0;32m/usr/local/lib/python3.7/dist-packages/sklearn/model_selection/_search.py\u001b[0m in \u001b[0;36mfit\u001b[0;34m(self, X, y, groups, **fit_params)\u001b[0m\n\u001b[1;32m    708\u001b[0m                 \u001b[0;32mreturn\u001b[0m \u001b[0mresults\u001b[0m\u001b[0;34m\u001b[0m\u001b[0;34m\u001b[0m\u001b[0m\n\u001b[1;32m    709\u001b[0m \u001b[0;34m\u001b[0m\u001b[0m\n\u001b[0;32m--> 710\u001b[0;31m             \u001b[0mself\u001b[0m\u001b[0;34m.\u001b[0m\u001b[0m_run_search\u001b[0m\u001b[0;34m(\u001b[0m\u001b[0mevaluate_candidates\u001b[0m\u001b[0;34m)\u001b[0m\u001b[0;34m\u001b[0m\u001b[0;34m\u001b[0m\u001b[0m\n\u001b[0m\u001b[1;32m    711\u001b[0m \u001b[0;34m\u001b[0m\u001b[0m\n\u001b[1;32m    712\u001b[0m         \u001b[0;31m# For multi-metric evaluation, store the best_index_, best_params_ and\u001b[0m\u001b[0;34m\u001b[0m\u001b[0;34m\u001b[0m\u001b[0;34m\u001b[0m\u001b[0m\n",
            "\u001b[0;32m/usr/local/lib/python3.7/dist-packages/sklearn/model_selection/_search.py\u001b[0m in \u001b[0;36m_run_search\u001b[0;34m(self, evaluate_candidates)\u001b[0m\n\u001b[1;32m   1149\u001b[0m     \u001b[0;32mdef\u001b[0m \u001b[0m_run_search\u001b[0m\u001b[0;34m(\u001b[0m\u001b[0mself\u001b[0m\u001b[0;34m,\u001b[0m \u001b[0mevaluate_candidates\u001b[0m\u001b[0;34m)\u001b[0m\u001b[0;34m:\u001b[0m\u001b[0;34m\u001b[0m\u001b[0;34m\u001b[0m\u001b[0m\n\u001b[1;32m   1150\u001b[0m         \u001b[0;34m\"\"\"Search all candidates in param_grid\"\"\"\u001b[0m\u001b[0;34m\u001b[0m\u001b[0;34m\u001b[0m\u001b[0m\n\u001b[0;32m-> 1151\u001b[0;31m         \u001b[0mevaluate_candidates\u001b[0m\u001b[0;34m(\u001b[0m\u001b[0mParameterGrid\u001b[0m\u001b[0;34m(\u001b[0m\u001b[0mself\u001b[0m\u001b[0;34m.\u001b[0m\u001b[0mparam_grid\u001b[0m\u001b[0;34m)\u001b[0m\u001b[0;34m)\u001b[0m\u001b[0;34m\u001b[0m\u001b[0;34m\u001b[0m\u001b[0m\n\u001b[0m\u001b[1;32m   1152\u001b[0m \u001b[0;34m\u001b[0m\u001b[0m\n\u001b[1;32m   1153\u001b[0m \u001b[0;34m\u001b[0m\u001b[0m\n",
            "\u001b[0;32m/usr/local/lib/python3.7/dist-packages/sklearn/model_selection/_search.py\u001b[0m in \u001b[0;36mevaluate_candidates\u001b[0;34m(candidate_params)\u001b[0m\n\u001b[1;32m    687\u001b[0m                                \u001b[0;32mfor\u001b[0m \u001b[0mparameters\u001b[0m\u001b[0;34m,\u001b[0m \u001b[0;34m(\u001b[0m\u001b[0mtrain\u001b[0m\u001b[0;34m,\u001b[0m \u001b[0mtest\u001b[0m\u001b[0;34m)\u001b[0m\u001b[0;34m\u001b[0m\u001b[0;34m\u001b[0m\u001b[0m\n\u001b[1;32m    688\u001b[0m                                in product(candidate_params,\n\u001b[0;32m--> 689\u001b[0;31m                                           cv.split(X, y, groups)))\n\u001b[0m\u001b[1;32m    690\u001b[0m \u001b[0;34m\u001b[0m\u001b[0m\n\u001b[1;32m    691\u001b[0m                 \u001b[0;32mif\u001b[0m \u001b[0mlen\u001b[0m\u001b[0;34m(\u001b[0m\u001b[0mout\u001b[0m\u001b[0;34m)\u001b[0m \u001b[0;34m<\u001b[0m \u001b[0;36m1\u001b[0m\u001b[0;34m:\u001b[0m\u001b[0;34m\u001b[0m\u001b[0;34m\u001b[0m\u001b[0m\n",
            "\u001b[0;32m/usr/local/lib/python3.7/dist-packages/joblib/parallel.py\u001b[0m in \u001b[0;36m__call__\u001b[0;34m(self, iterable)\u001b[0m\n\u001b[1;32m   1054\u001b[0m \u001b[0;34m\u001b[0m\u001b[0m\n\u001b[1;32m   1055\u001b[0m             \u001b[0;32mwith\u001b[0m \u001b[0mself\u001b[0m\u001b[0;34m.\u001b[0m\u001b[0m_backend\u001b[0m\u001b[0;34m.\u001b[0m\u001b[0mretrieval_context\u001b[0m\u001b[0;34m(\u001b[0m\u001b[0;34m)\u001b[0m\u001b[0;34m:\u001b[0m\u001b[0;34m\u001b[0m\u001b[0;34m\u001b[0m\u001b[0m\n\u001b[0;32m-> 1056\u001b[0;31m                 \u001b[0mself\u001b[0m\u001b[0;34m.\u001b[0m\u001b[0mretrieve\u001b[0m\u001b[0;34m(\u001b[0m\u001b[0;34m)\u001b[0m\u001b[0;34m\u001b[0m\u001b[0;34m\u001b[0m\u001b[0m\n\u001b[0m\u001b[1;32m   1057\u001b[0m             \u001b[0;31m# Make sure that we get a last message telling us we are done\u001b[0m\u001b[0;34m\u001b[0m\u001b[0;34m\u001b[0m\u001b[0;34m\u001b[0m\u001b[0m\n\u001b[1;32m   1058\u001b[0m             \u001b[0melapsed_time\u001b[0m \u001b[0;34m=\u001b[0m \u001b[0mtime\u001b[0m\u001b[0;34m.\u001b[0m\u001b[0mtime\u001b[0m\u001b[0;34m(\u001b[0m\u001b[0;34m)\u001b[0m \u001b[0;34m-\u001b[0m \u001b[0mself\u001b[0m\u001b[0;34m.\u001b[0m\u001b[0m_start_time\u001b[0m\u001b[0;34m\u001b[0m\u001b[0;34m\u001b[0m\u001b[0m\n",
            "\u001b[0;32m/usr/local/lib/python3.7/dist-packages/joblib/parallel.py\u001b[0m in \u001b[0;36mretrieve\u001b[0;34m(self)\u001b[0m\n\u001b[1;32m    933\u001b[0m             \u001b[0;32mtry\u001b[0m\u001b[0;34m:\u001b[0m\u001b[0;34m\u001b[0m\u001b[0;34m\u001b[0m\u001b[0m\n\u001b[1;32m    934\u001b[0m                 \u001b[0;32mif\u001b[0m \u001b[0mgetattr\u001b[0m\u001b[0;34m(\u001b[0m\u001b[0mself\u001b[0m\u001b[0;34m.\u001b[0m\u001b[0m_backend\u001b[0m\u001b[0;34m,\u001b[0m \u001b[0;34m'supports_timeout'\u001b[0m\u001b[0;34m,\u001b[0m \u001b[0;32mFalse\u001b[0m\u001b[0;34m)\u001b[0m\u001b[0;34m:\u001b[0m\u001b[0;34m\u001b[0m\u001b[0;34m\u001b[0m\u001b[0m\n\u001b[0;32m--> 935\u001b[0;31m                     \u001b[0mself\u001b[0m\u001b[0;34m.\u001b[0m\u001b[0m_output\u001b[0m\u001b[0;34m.\u001b[0m\u001b[0mextend\u001b[0m\u001b[0;34m(\u001b[0m\u001b[0mjob\u001b[0m\u001b[0;34m.\u001b[0m\u001b[0mget\u001b[0m\u001b[0;34m(\u001b[0m\u001b[0mtimeout\u001b[0m\u001b[0;34m=\u001b[0m\u001b[0mself\u001b[0m\u001b[0;34m.\u001b[0m\u001b[0mtimeout\u001b[0m\u001b[0;34m)\u001b[0m\u001b[0;34m)\u001b[0m\u001b[0;34m\u001b[0m\u001b[0;34m\u001b[0m\u001b[0m\n\u001b[0m\u001b[1;32m    936\u001b[0m                 \u001b[0;32melse\u001b[0m\u001b[0;34m:\u001b[0m\u001b[0;34m\u001b[0m\u001b[0;34m\u001b[0m\u001b[0m\n\u001b[1;32m    937\u001b[0m                     \u001b[0mself\u001b[0m\u001b[0;34m.\u001b[0m\u001b[0m_output\u001b[0m\u001b[0;34m.\u001b[0m\u001b[0mextend\u001b[0m\u001b[0;34m(\u001b[0m\u001b[0mjob\u001b[0m\u001b[0;34m.\u001b[0m\u001b[0mget\u001b[0m\u001b[0;34m(\u001b[0m\u001b[0;34m)\u001b[0m\u001b[0;34m)\u001b[0m\u001b[0;34m\u001b[0m\u001b[0;34m\u001b[0m\u001b[0m\n",
            "\u001b[0;32m/usr/local/lib/python3.7/dist-packages/joblib/_parallel_backends.py\u001b[0m in \u001b[0;36mwrap_future_result\u001b[0;34m(future, timeout)\u001b[0m\n\u001b[1;32m    540\u001b[0m         AsyncResults.get from multiprocessing.\"\"\"\n\u001b[1;32m    541\u001b[0m         \u001b[0;32mtry\u001b[0m\u001b[0;34m:\u001b[0m\u001b[0;34m\u001b[0m\u001b[0;34m\u001b[0m\u001b[0m\n\u001b[0;32m--> 542\u001b[0;31m             \u001b[0;32mreturn\u001b[0m \u001b[0mfuture\u001b[0m\u001b[0;34m.\u001b[0m\u001b[0mresult\u001b[0m\u001b[0;34m(\u001b[0m\u001b[0mtimeout\u001b[0m\u001b[0;34m=\u001b[0m\u001b[0mtimeout\u001b[0m\u001b[0;34m)\u001b[0m\u001b[0;34m\u001b[0m\u001b[0;34m\u001b[0m\u001b[0m\n\u001b[0m\u001b[1;32m    543\u001b[0m         \u001b[0;32mexcept\u001b[0m \u001b[0mCfTimeoutError\u001b[0m \u001b[0;32mas\u001b[0m \u001b[0me\u001b[0m\u001b[0;34m:\u001b[0m\u001b[0;34m\u001b[0m\u001b[0;34m\u001b[0m\u001b[0m\n\u001b[1;32m    544\u001b[0m             \u001b[0;32mraise\u001b[0m \u001b[0mTimeoutError\u001b[0m \u001b[0;32mfrom\u001b[0m \u001b[0me\u001b[0m\u001b[0;34m\u001b[0m\u001b[0;34m\u001b[0m\u001b[0m\n",
            "\u001b[0;32m/usr/lib/python3.7/concurrent/futures/_base.py\u001b[0m in \u001b[0;36mresult\u001b[0;34m(self, timeout)\u001b[0m\n\u001b[1;32m    428\u001b[0m                 \u001b[0;32mreturn\u001b[0m \u001b[0mself\u001b[0m\u001b[0;34m.\u001b[0m\u001b[0m__get_result\u001b[0m\u001b[0;34m(\u001b[0m\u001b[0;34m)\u001b[0m\u001b[0;34m\u001b[0m\u001b[0;34m\u001b[0m\u001b[0m\n\u001b[1;32m    429\u001b[0m \u001b[0;34m\u001b[0m\u001b[0m\n\u001b[0;32m--> 430\u001b[0;31m             \u001b[0mself\u001b[0m\u001b[0;34m.\u001b[0m\u001b[0m_condition\u001b[0m\u001b[0;34m.\u001b[0m\u001b[0mwait\u001b[0m\u001b[0;34m(\u001b[0m\u001b[0mtimeout\u001b[0m\u001b[0;34m)\u001b[0m\u001b[0;34m\u001b[0m\u001b[0;34m\u001b[0m\u001b[0m\n\u001b[0m\u001b[1;32m    431\u001b[0m \u001b[0;34m\u001b[0m\u001b[0m\n\u001b[1;32m    432\u001b[0m             \u001b[0;32mif\u001b[0m \u001b[0mself\u001b[0m\u001b[0;34m.\u001b[0m\u001b[0m_state\u001b[0m \u001b[0;32min\u001b[0m \u001b[0;34m[\u001b[0m\u001b[0mCANCELLED\u001b[0m\u001b[0;34m,\u001b[0m \u001b[0mCANCELLED_AND_NOTIFIED\u001b[0m\u001b[0;34m]\u001b[0m\u001b[0;34m:\u001b[0m\u001b[0;34m\u001b[0m\u001b[0;34m\u001b[0m\u001b[0m\n",
            "\u001b[0;32m/usr/lib/python3.7/threading.py\u001b[0m in \u001b[0;36mwait\u001b[0;34m(self, timeout)\u001b[0m\n\u001b[1;32m    294\u001b[0m         \u001b[0;32mtry\u001b[0m\u001b[0;34m:\u001b[0m    \u001b[0;31m# restore state no matter what (e.g., KeyboardInterrupt)\u001b[0m\u001b[0;34m\u001b[0m\u001b[0;34m\u001b[0m\u001b[0m\n\u001b[1;32m    295\u001b[0m             \u001b[0;32mif\u001b[0m \u001b[0mtimeout\u001b[0m \u001b[0;32mis\u001b[0m \u001b[0;32mNone\u001b[0m\u001b[0;34m:\u001b[0m\u001b[0;34m\u001b[0m\u001b[0;34m\u001b[0m\u001b[0m\n\u001b[0;32m--> 296\u001b[0;31m                 \u001b[0mwaiter\u001b[0m\u001b[0;34m.\u001b[0m\u001b[0macquire\u001b[0m\u001b[0;34m(\u001b[0m\u001b[0;34m)\u001b[0m\u001b[0;34m\u001b[0m\u001b[0;34m\u001b[0m\u001b[0m\n\u001b[0m\u001b[1;32m    297\u001b[0m                 \u001b[0mgotit\u001b[0m \u001b[0;34m=\u001b[0m \u001b[0;32mTrue\u001b[0m\u001b[0;34m\u001b[0m\u001b[0;34m\u001b[0m\u001b[0m\n\u001b[1;32m    298\u001b[0m             \u001b[0;32melse\u001b[0m\u001b[0;34m:\u001b[0m\u001b[0;34m\u001b[0m\u001b[0;34m\u001b[0m\u001b[0m\n",
            "\u001b[0;31mKeyboardInterrupt\u001b[0m: "
          ]
        }
      ]
    },
    {
      "cell_type": "markdown",
      "metadata": {
        "id": "Q0zqQPuPvcdO"
      },
      "source": [
        "# SVM RBF"
      ]
    },
    {
      "cell_type": "code",
      "metadata": {
        "id": "3gEbdItOSfrs",
        "colab": {
          "base_uri": "https://localhost:8080/"
        },
        "outputId": "16448512-8491-4c5a-df0c-0ce0e201c020"
      },
      "source": [
        "# svm_rbf_estimator = Pipeline(steps=[('scaler', StandardScaler()), ('estimator', SVC())])\n",
        "\n",
        "# svm_rbf_params = [{'estimator__kernel': [\"rbf\"],        \n",
        "#                    'estimator__degree': [5,10,40],        \n",
        "#                    'estimator__C': [0.1,10,1000],    \n",
        "#                    'estimator__gamma': [.00001,.0001,.01,1,1.5]}] \n",
        "        \n",
        "# svm_rbf_grid = GridSearchCV(estimator=svm_rbf_estimator,\n",
        "#                        param_grid=svm_rbf_params,\n",
        "#                        cv=5,\n",
        "#                        n_jobs=-1,)\n",
        "\n",
        "# svm_rbf_grid.fit(B_train, a_train) \n",
        "\n",
        "\n",
        "# print('svm_poly F1: ', f1_score(a,svm_rbf_grid.predict(B), average='micro'))\n",
        "# print('best svm_rbf_parameters', svm_rbf_grid.best_params_)\n",
        "\n",
        "svm_rbf_estimator = Pipeline(steps=[('scaler', StandardScaler()), ('estimator', SVC())])\n",
        "svm_rbf_params = [{'estimator__kernel': [\"rbf\"],\n",
        "'estimator__degree': [2,6,20],\n",
        "'estimator__C': [0.1,10,1000],\n",
        "'estimator__gamma': [.00001,.0001,.01,1,1.5]}]\n",
        "svm_rbf_grid = GridSearchCV(estimator=svm_rbf_estimator,\n",
        "param_grid=svm_rbf_params,\n",
        "cv=5,\n",
        "n_jobs=-1,)\n",
        "svm_rbf_grid.fit(x_train, y_train)\n",
        "print('svm_poly F1: ', f1_score(y,svm_rbf_grid.predict(x), average='micro'))\n",
        "print('best svm_rbf_parameters', svm_rbf_grid.best_estimator_)"
      ],
      "execution_count": null,
      "outputs": [
        {
          "output_type": "stream",
          "name": "stdout",
          "text": [
            "svm_poly F1:  0.244\n",
            "best svm_rbf_parameters Pipeline(memory=None,\n",
            "         steps=[('scaler',\n",
            "                 StandardScaler(copy=True, with_mean=True, with_std=True)),\n",
            "                ('estimator',\n",
            "                 SVC(C=0.1, break_ties=False, cache_size=200, class_weight=None,\n",
            "                     coef0=0.0, decision_function_shape='ovr', degree=2,\n",
            "                     gamma=1e-05, kernel='rbf', max_iter=-1, probability=False,\n",
            "                     random_state=None, shrinking=True, tol=0.001,\n",
            "                     verbose=False))],\n",
            "         verbose=False)\n"
          ]
        }
      ]
    },
    {
      "cell_type": "markdown",
      "metadata": {
        "id": "Knc68_TavmRa"
      },
      "source": [
        "# Decision tree"
      ]
    },
    {
      "cell_type": "code",
      "metadata": {
        "id": "yEElwdkz31Sf",
        "colab": {
          "base_uri": "https://localhost:8080/",
          "height": 1000
        },
        "outputId": "e3a085d8-5f92-4f7a-960e-9221a401d932"
      },
      "source": [
        "#Decission tree \n",
        "\n",
        "# dt_params = {\n",
        "#     'max_depth': [3,5,7,8,10]\n",
        "# }\n",
        "\n",
        "\n",
        "# decision_grid = GridSearchCV(DecisionTreeClassifier(),dt_params)\n",
        "\n",
        "# decision_grid.fit(B_train, a_train)\n",
        "\n",
        "\n",
        "# # best = decision_grid.best_estimator_\n",
        "# # print(best)\n",
        "\n",
        "# predict_values = decision_grid.predict(B_test)\n",
        "\n",
        "# best.fit(B_train, a_train)\n",
        "\n",
        "# f1_score  = f1_score(a_test, predict_values,average='micro')\n",
        "# print(f1_score)\n",
        "# print('best decision_grid ', decision_grid.best_params_)\n",
        "\n",
        "params_dec = {\n",
        "'max_depth': [2,4,6,8,10]\n",
        "}\n",
        "decision_grid = GridSearchCV(DecisionTreeClassifier(),params_dec)\n",
        "decision_grid.fit(y_train, x_train).array.reshape(-1, 1)\n",
        "best = decision_grid.best_estimator_\n",
        "print(best)\n",
        "predict_values = decision_grid.predict(y_test)\n",
        "best.fit(y_train, x_train)\n",
        "f1_score = f1_score(a_test, predict_values,average='micro')\n",
        "print(f1_score)\n"
      ],
      "execution_count": null,
      "outputs": [
        {
          "output_type": "stream",
          "name": "stderr",
          "text": [
            "/usr/local/lib/python3.7/dist-packages/sklearn/model_selection/_validation.py:536: FitFailedWarning: Estimator fit failed. The score on this train-test partition for these parameters will be set to nan. Details: \n",
            "ValueError: Expected 2D array, got 1D array instead:\n",
            "array=[0. 3. 0. 6. 0. 4. 3. 4. 5. 3. 3. 3. 4. 2. 2. 2. 0. 2. 6. 3. 0. 5. 5. 0.\n",
            " 3. 6. 3. 6. 0. 4. 4. 6. 3. 6. 6. 5. 3. 3. 2. 0. 3. 3. 5. 0. 4. 6. 6. 0.\n",
            " 6. 2. 4. 6. 5. 5. 2. 2. 2. 6. 3. 2. 4. 3. 2. 4. 3. 5. 3. 2. 4. 0. 3. 3.\n",
            " 6. 2. 5. 4. 3. 0. 3. 2. 2. 3. 2. 2. 5. 3. 0. 0. 0. 6. 0. 5. 3. 0. 3. 2.\n",
            " 0. 3. 5. 3. 0. 2. 6. 3. 4. 5. 2. 0. 2. 0. 3. 5. 0. 4. 0. 5. 3. 2. 2. 2.\n",
            " 3. 4. 2. 0. 3. 2. 0. 0. 0. 5. 6. 0. 4. 6. 6. 3. 2. 0. 3. 3. 3. 3. 5. 3.\n",
            " 2. 4. 4. 5. 6.].\n",
            "Reshape your data either using array.reshape(-1, 1) if your data has a single feature or array.reshape(1, -1) if it contains a single sample.\n",
            "\n",
            "  FitFailedWarning)\n",
            "/usr/local/lib/python3.7/dist-packages/sklearn/model_selection/_validation.py:536: FitFailedWarning: Estimator fit failed. The score on this train-test partition for these parameters will be set to nan. Details: \n",
            "ValueError: Expected 2D array, got 1D array instead:\n",
            "array=[3. 3. 2. 0. 3. 2. 2. 6. 6. 6. 3. 2. 6. 3. 3. 3. 6. 6. 5. 4. 0. 4. 4. 3.\n",
            " 3. 3. 5. 2. 2. 4. 3. 2. 6. 5. 6. 2. 4. 4. 2. 0. 3. 3. 5. 0. 4. 6. 6. 0.\n",
            " 6. 2. 4. 6. 5. 5. 2. 2. 2. 6. 3. 2. 4. 3. 2. 4. 3. 5. 3. 2. 4. 0. 3. 3.\n",
            " 6. 2. 5. 4. 3. 0. 3. 2. 2. 3. 2. 2. 5. 3. 0. 0. 0. 6. 0. 5. 3. 0. 3. 2.\n",
            " 0. 3. 5. 3. 0. 2. 6. 3. 4. 5. 2. 0. 2. 0. 3. 5. 0. 4. 0. 5. 3. 2. 2. 2.\n",
            " 3. 4. 2. 0. 3. 2. 0. 0. 0. 5. 6. 0. 4. 6. 6. 3. 2. 0. 3. 3. 3. 3. 5. 3.\n",
            " 2. 4. 4. 5. 6.].\n",
            "Reshape your data either using array.reshape(-1, 1) if your data has a single feature or array.reshape(1, -1) if it contains a single sample.\n",
            "\n",
            "  FitFailedWarning)\n",
            "/usr/local/lib/python3.7/dist-packages/sklearn/model_selection/_validation.py:536: FitFailedWarning: Estimator fit failed. The score on this train-test partition for these parameters will be set to nan. Details: \n",
            "ValueError: Expected 2D array, got 1D array instead:\n",
            "array=[3. 3. 2. 0. 3. 2. 2. 6. 6. 6. 3. 2. 6. 3. 3. 3. 6. 6. 5. 4. 0. 4. 4. 3.\n",
            " 3. 3. 5. 2. 2. 4. 3. 2. 6. 5. 6. 2. 4. 4. 0. 3. 0. 6. 0. 4. 3. 4. 5. 3.\n",
            " 3. 3. 4. 2. 2. 2. 0. 2. 6. 3. 0. 5. 5. 0. 3. 6. 3. 6. 0. 4. 4. 6. 3. 6.\n",
            " 6. 5. 3. 3. 4. 3. 0. 3. 2. 2. 3. 2. 2. 5. 3. 0. 0. 0. 6. 0. 5. 3. 0. 3.\n",
            " 2. 0. 3. 5. 3. 0. 2. 6. 3. 4. 5. 2. 0. 2. 0. 3. 5. 0. 4. 0. 5. 3. 2. 2.\n",
            " 2. 3. 4. 2. 0. 3. 2. 0. 0. 0. 5. 6. 0. 4. 6. 6. 3. 2. 0. 3. 3. 3. 3. 5.\n",
            " 3. 2. 4. 4. 5. 6.].\n",
            "Reshape your data either using array.reshape(-1, 1) if your data has a single feature or array.reshape(1, -1) if it contains a single sample.\n",
            "\n",
            "  FitFailedWarning)\n",
            "/usr/local/lib/python3.7/dist-packages/sklearn/model_selection/_validation.py:536: FitFailedWarning: Estimator fit failed. The score on this train-test partition for these parameters will be set to nan. Details: \n",
            "ValueError: Expected 2D array, got 1D array instead:\n",
            "array=[3. 3. 2. 0. 3. 2. 2. 6. 6. 6. 3. 2. 6. 3. 3. 3. 6. 6. 5. 4. 0. 4. 4. 3.\n",
            " 3. 3. 5. 2. 2. 4. 3. 2. 6. 5. 6. 2. 4. 4. 0. 3. 0. 6. 0. 4. 3. 4. 5. 3.\n",
            " 3. 3. 4. 2. 2. 2. 0. 2. 6. 3. 0. 5. 5. 0. 3. 6. 3. 6. 0. 4. 4. 6. 3. 6.\n",
            " 6. 5. 3. 3. 2. 0. 3. 3. 5. 0. 4. 6. 6. 0. 6. 2. 4. 6. 5. 5. 2. 2. 2. 6.\n",
            " 3. 2. 4. 3. 2. 4. 3. 5. 3. 2. 4. 0. 3. 3. 6. 2. 5. 0. 4. 0. 5. 3. 2. 2.\n",
            " 2. 3. 4. 2. 0. 3. 2. 0. 0. 0. 5. 6. 0. 4. 6. 6. 3. 2. 0. 3. 3. 3. 3. 5.\n",
            " 3. 2. 4. 4. 5. 6.].\n",
            "Reshape your data either using array.reshape(-1, 1) if your data has a single feature or array.reshape(1, -1) if it contains a single sample.\n",
            "\n",
            "  FitFailedWarning)\n",
            "/usr/local/lib/python3.7/dist-packages/sklearn/model_selection/_validation.py:536: FitFailedWarning: Estimator fit failed. The score on this train-test partition for these parameters will be set to nan. Details: \n",
            "ValueError: Expected 2D array, got 1D array instead:\n",
            "array=[3. 3. 2. 0. 3. 2. 2. 6. 6. 6. 3. 2. 6. 3. 3. 3. 6. 6. 5. 4. 0. 4. 4. 3.\n",
            " 3. 3. 5. 2. 2. 4. 3. 2. 6. 5. 6. 2. 4. 4. 0. 3. 0. 6. 0. 4. 3. 4. 5. 3.\n",
            " 3. 3. 4. 2. 2. 2. 0. 2. 6. 3. 0. 5. 5. 0. 3. 6. 3. 6. 0. 4. 4. 6. 3. 6.\n",
            " 6. 5. 3. 3. 2. 0. 3. 3. 5. 0. 4. 6. 6. 0. 6. 2. 4. 6. 5. 5. 2. 2. 2. 6.\n",
            " 3. 2. 4. 3. 2. 4. 3. 5. 3. 2. 4. 0. 3. 3. 6. 2. 5. 4. 3. 0. 3. 2. 2. 3.\n",
            " 2. 2. 5. 3. 0. 0. 0. 6. 0. 5. 3. 0. 3. 2. 0. 3. 5. 3. 0. 2. 6. 3. 4. 5.\n",
            " 2. 0. 2. 0. 3. 5.].\n",
            "Reshape your data either using array.reshape(-1, 1) if your data has a single feature or array.reshape(1, -1) if it contains a single sample.\n",
            "\n",
            "  FitFailedWarning)\n",
            "/usr/local/lib/python3.7/dist-packages/sklearn/model_selection/_validation.py:536: FitFailedWarning: Estimator fit failed. The score on this train-test partition for these parameters will be set to nan. Details: \n",
            "ValueError: Expected 2D array, got 1D array instead:\n",
            "array=[0. 3. 0. 6. 0. 4. 3. 4. 5. 3. 3. 3. 4. 2. 2. 2. 0. 2. 6. 3. 0. 5. 5. 0.\n",
            " 3. 6. 3. 6. 0. 4. 4. 6. 3. 6. 6. 5. 3. 3. 2. 0. 3. 3. 5. 0. 4. 6. 6. 0.\n",
            " 6. 2. 4. 6. 5. 5. 2. 2. 2. 6. 3. 2. 4. 3. 2. 4. 3. 5. 3. 2. 4. 0. 3. 3.\n",
            " 6. 2. 5. 4. 3. 0. 3. 2. 2. 3. 2. 2. 5. 3. 0. 0. 0. 6. 0. 5. 3. 0. 3. 2.\n",
            " 0. 3. 5. 3. 0. 2. 6. 3. 4. 5. 2. 0. 2. 0. 3. 5. 0. 4. 0. 5. 3. 2. 2. 2.\n",
            " 3. 4. 2. 0. 3. 2. 0. 0. 0. 5. 6. 0. 4. 6. 6. 3. 2. 0. 3. 3. 3. 3. 5. 3.\n",
            " 2. 4. 4. 5. 6.].\n",
            "Reshape your data either using array.reshape(-1, 1) if your data has a single feature or array.reshape(1, -1) if it contains a single sample.\n",
            "\n",
            "  FitFailedWarning)\n",
            "/usr/local/lib/python3.7/dist-packages/sklearn/model_selection/_validation.py:536: FitFailedWarning: Estimator fit failed. The score on this train-test partition for these parameters will be set to nan. Details: \n",
            "ValueError: Expected 2D array, got 1D array instead:\n",
            "array=[3. 3. 2. 0. 3. 2. 2. 6. 6. 6. 3. 2. 6. 3. 3. 3. 6. 6. 5. 4. 0. 4. 4. 3.\n",
            " 3. 3. 5. 2. 2. 4. 3. 2. 6. 5. 6. 2. 4. 4. 2. 0. 3. 3. 5. 0. 4. 6. 6. 0.\n",
            " 6. 2. 4. 6. 5. 5. 2. 2. 2. 6. 3. 2. 4. 3. 2. 4. 3. 5. 3. 2. 4. 0. 3. 3.\n",
            " 6. 2. 5. 4. 3. 0. 3. 2. 2. 3. 2. 2. 5. 3. 0. 0. 0. 6. 0. 5. 3. 0. 3. 2.\n",
            " 0. 3. 5. 3. 0. 2. 6. 3. 4. 5. 2. 0. 2. 0. 3. 5. 0. 4. 0. 5. 3. 2. 2. 2.\n",
            " 3. 4. 2. 0. 3. 2. 0. 0. 0. 5. 6. 0. 4. 6. 6. 3. 2. 0. 3. 3. 3. 3. 5. 3.\n",
            " 2. 4. 4. 5. 6.].\n",
            "Reshape your data either using array.reshape(-1, 1) if your data has a single feature or array.reshape(1, -1) if it contains a single sample.\n",
            "\n",
            "  FitFailedWarning)\n",
            "/usr/local/lib/python3.7/dist-packages/sklearn/model_selection/_validation.py:536: FitFailedWarning: Estimator fit failed. The score on this train-test partition for these parameters will be set to nan. Details: \n",
            "ValueError: Expected 2D array, got 1D array instead:\n",
            "array=[3. 3. 2. 0. 3. 2. 2. 6. 6. 6. 3. 2. 6. 3. 3. 3. 6. 6. 5. 4. 0. 4. 4. 3.\n",
            " 3. 3. 5. 2. 2. 4. 3. 2. 6. 5. 6. 2. 4. 4. 0. 3. 0. 6. 0. 4. 3. 4. 5. 3.\n",
            " 3. 3. 4. 2. 2. 2. 0. 2. 6. 3. 0. 5. 5. 0. 3. 6. 3. 6. 0. 4. 4. 6. 3. 6.\n",
            " 6. 5. 3. 3. 4. 3. 0. 3. 2. 2. 3. 2. 2. 5. 3. 0. 0. 0. 6. 0. 5. 3. 0. 3.\n",
            " 2. 0. 3. 5. 3. 0. 2. 6. 3. 4. 5. 2. 0. 2. 0. 3. 5. 0. 4. 0. 5. 3. 2. 2.\n",
            " 2. 3. 4. 2. 0. 3. 2. 0. 0. 0. 5. 6. 0. 4. 6. 6. 3. 2. 0. 3. 3. 3. 3. 5.\n",
            " 3. 2. 4. 4. 5. 6.].\n",
            "Reshape your data either using array.reshape(-1, 1) if your data has a single feature or array.reshape(1, -1) if it contains a single sample.\n",
            "\n",
            "  FitFailedWarning)\n",
            "/usr/local/lib/python3.7/dist-packages/sklearn/model_selection/_validation.py:536: FitFailedWarning: Estimator fit failed. The score on this train-test partition for these parameters will be set to nan. Details: \n",
            "ValueError: Expected 2D array, got 1D array instead:\n",
            "array=[3. 3. 2. 0. 3. 2. 2. 6. 6. 6. 3. 2. 6. 3. 3. 3. 6. 6. 5. 4. 0. 4. 4. 3.\n",
            " 3. 3. 5. 2. 2. 4. 3. 2. 6. 5. 6. 2. 4. 4. 0. 3. 0. 6. 0. 4. 3. 4. 5. 3.\n",
            " 3. 3. 4. 2. 2. 2. 0. 2. 6. 3. 0. 5. 5. 0. 3. 6. 3. 6. 0. 4. 4. 6. 3. 6.\n",
            " 6. 5. 3. 3. 2. 0. 3. 3. 5. 0. 4. 6. 6. 0. 6. 2. 4. 6. 5. 5. 2. 2. 2. 6.\n",
            " 3. 2. 4. 3. 2. 4. 3. 5. 3. 2. 4. 0. 3. 3. 6. 2. 5. 0. 4. 0. 5. 3. 2. 2.\n",
            " 2. 3. 4. 2. 0. 3. 2. 0. 0. 0. 5. 6. 0. 4. 6. 6. 3. 2. 0. 3. 3. 3. 3. 5.\n",
            " 3. 2. 4. 4. 5. 6.].\n",
            "Reshape your data either using array.reshape(-1, 1) if your data has a single feature or array.reshape(1, -1) if it contains a single sample.\n",
            "\n",
            "  FitFailedWarning)\n",
            "/usr/local/lib/python3.7/dist-packages/sklearn/model_selection/_validation.py:536: FitFailedWarning: Estimator fit failed. The score on this train-test partition for these parameters will be set to nan. Details: \n",
            "ValueError: Expected 2D array, got 1D array instead:\n",
            "array=[3. 3. 2. 0. 3. 2. 2. 6. 6. 6. 3. 2. 6. 3. 3. 3. 6. 6. 5. 4. 0. 4. 4. 3.\n",
            " 3. 3. 5. 2. 2. 4. 3. 2. 6. 5. 6. 2. 4. 4. 0. 3. 0. 6. 0. 4. 3. 4. 5. 3.\n",
            " 3. 3. 4. 2. 2. 2. 0. 2. 6. 3. 0. 5. 5. 0. 3. 6. 3. 6. 0. 4. 4. 6. 3. 6.\n",
            " 6. 5. 3. 3. 2. 0. 3. 3. 5. 0. 4. 6. 6. 0. 6. 2. 4. 6. 5. 5. 2. 2. 2. 6.\n",
            " 3. 2. 4. 3. 2. 4. 3. 5. 3. 2. 4. 0. 3. 3. 6. 2. 5. 4. 3. 0. 3. 2. 2. 3.\n",
            " 2. 2. 5. 3. 0. 0. 0. 6. 0. 5. 3. 0. 3. 2. 0. 3. 5. 3. 0. 2. 6. 3. 4. 5.\n",
            " 2. 0. 2. 0. 3. 5.].\n",
            "Reshape your data either using array.reshape(-1, 1) if your data has a single feature or array.reshape(1, -1) if it contains a single sample.\n",
            "\n",
            "  FitFailedWarning)\n",
            "/usr/local/lib/python3.7/dist-packages/sklearn/model_selection/_validation.py:536: FitFailedWarning: Estimator fit failed. The score on this train-test partition for these parameters will be set to nan. Details: \n",
            "ValueError: Expected 2D array, got 1D array instead:\n",
            "array=[0. 3. 0. 6. 0. 4. 3. 4. 5. 3. 3. 3. 4. 2. 2. 2. 0. 2. 6. 3. 0. 5. 5. 0.\n",
            " 3. 6. 3. 6. 0. 4. 4. 6. 3. 6. 6. 5. 3. 3. 2. 0. 3. 3. 5. 0. 4. 6. 6. 0.\n",
            " 6. 2. 4. 6. 5. 5. 2. 2. 2. 6. 3. 2. 4. 3. 2. 4. 3. 5. 3. 2. 4. 0. 3. 3.\n",
            " 6. 2. 5. 4. 3. 0. 3. 2. 2. 3. 2. 2. 5. 3. 0. 0. 0. 6. 0. 5. 3. 0. 3. 2.\n",
            " 0. 3. 5. 3. 0. 2. 6. 3. 4. 5. 2. 0. 2. 0. 3. 5. 0. 4. 0. 5. 3. 2. 2. 2.\n",
            " 3. 4. 2. 0. 3. 2. 0. 0. 0. 5. 6. 0. 4. 6. 6. 3. 2. 0. 3. 3. 3. 3. 5. 3.\n",
            " 2. 4. 4. 5. 6.].\n",
            "Reshape your data either using array.reshape(-1, 1) if your data has a single feature or array.reshape(1, -1) if it contains a single sample.\n",
            "\n",
            "  FitFailedWarning)\n",
            "/usr/local/lib/python3.7/dist-packages/sklearn/model_selection/_validation.py:536: FitFailedWarning: Estimator fit failed. The score on this train-test partition for these parameters will be set to nan. Details: \n",
            "ValueError: Expected 2D array, got 1D array instead:\n",
            "array=[3. 3. 2. 0. 3. 2. 2. 6. 6. 6. 3. 2. 6. 3. 3. 3. 6. 6. 5. 4. 0. 4. 4. 3.\n",
            " 3. 3. 5. 2. 2. 4. 3. 2. 6. 5. 6. 2. 4. 4. 2. 0. 3. 3. 5. 0. 4. 6. 6. 0.\n",
            " 6. 2. 4. 6. 5. 5. 2. 2. 2. 6. 3. 2. 4. 3. 2. 4. 3. 5. 3. 2. 4. 0. 3. 3.\n",
            " 6. 2. 5. 4. 3. 0. 3. 2. 2. 3. 2. 2. 5. 3. 0. 0. 0. 6. 0. 5. 3. 0. 3. 2.\n",
            " 0. 3. 5. 3. 0. 2. 6. 3. 4. 5. 2. 0. 2. 0. 3. 5. 0. 4. 0. 5. 3. 2. 2. 2.\n",
            " 3. 4. 2. 0. 3. 2. 0. 0. 0. 5. 6. 0. 4. 6. 6. 3. 2. 0. 3. 3. 3. 3. 5. 3.\n",
            " 2. 4. 4. 5. 6.].\n",
            "Reshape your data either using array.reshape(-1, 1) if your data has a single feature or array.reshape(1, -1) if it contains a single sample.\n",
            "\n",
            "  FitFailedWarning)\n",
            "/usr/local/lib/python3.7/dist-packages/sklearn/model_selection/_validation.py:536: FitFailedWarning: Estimator fit failed. The score on this train-test partition for these parameters will be set to nan. Details: \n",
            "ValueError: Expected 2D array, got 1D array instead:\n",
            "array=[3. 3. 2. 0. 3. 2. 2. 6. 6. 6. 3. 2. 6. 3. 3. 3. 6. 6. 5. 4. 0. 4. 4. 3.\n",
            " 3. 3. 5. 2. 2. 4. 3. 2. 6. 5. 6. 2. 4. 4. 0. 3. 0. 6. 0. 4. 3. 4. 5. 3.\n",
            " 3. 3. 4. 2. 2. 2. 0. 2. 6. 3. 0. 5. 5. 0. 3. 6. 3. 6. 0. 4. 4. 6. 3. 6.\n",
            " 6. 5. 3. 3. 4. 3. 0. 3. 2. 2. 3. 2. 2. 5. 3. 0. 0. 0. 6. 0. 5. 3. 0. 3.\n",
            " 2. 0. 3. 5. 3. 0. 2. 6. 3. 4. 5. 2. 0. 2. 0. 3. 5. 0. 4. 0. 5. 3. 2. 2.\n",
            " 2. 3. 4. 2. 0. 3. 2. 0. 0. 0. 5. 6. 0. 4. 6. 6. 3. 2. 0. 3. 3. 3. 3. 5.\n",
            " 3. 2. 4. 4. 5. 6.].\n",
            "Reshape your data either using array.reshape(-1, 1) if your data has a single feature or array.reshape(1, -1) if it contains a single sample.\n",
            "\n",
            "  FitFailedWarning)\n",
            "/usr/local/lib/python3.7/dist-packages/sklearn/model_selection/_validation.py:536: FitFailedWarning: Estimator fit failed. The score on this train-test partition for these parameters will be set to nan. Details: \n",
            "ValueError: Expected 2D array, got 1D array instead:\n",
            "array=[3. 3. 2. 0. 3. 2. 2. 6. 6. 6. 3. 2. 6. 3. 3. 3. 6. 6. 5. 4. 0. 4. 4. 3.\n",
            " 3. 3. 5. 2. 2. 4. 3. 2. 6. 5. 6. 2. 4. 4. 0. 3. 0. 6. 0. 4. 3. 4. 5. 3.\n",
            " 3. 3. 4. 2. 2. 2. 0. 2. 6. 3. 0. 5. 5. 0. 3. 6. 3. 6. 0. 4. 4. 6. 3. 6.\n",
            " 6. 5. 3. 3. 2. 0. 3. 3. 5. 0. 4. 6. 6. 0. 6. 2. 4. 6. 5. 5. 2. 2. 2. 6.\n",
            " 3. 2. 4. 3. 2. 4. 3. 5. 3. 2. 4. 0. 3. 3. 6. 2. 5. 0. 4. 0. 5. 3. 2. 2.\n",
            " 2. 3. 4. 2. 0. 3. 2. 0. 0. 0. 5. 6. 0. 4. 6. 6. 3. 2. 0. 3. 3. 3. 3. 5.\n",
            " 3. 2. 4. 4. 5. 6.].\n",
            "Reshape your data either using array.reshape(-1, 1) if your data has a single feature or array.reshape(1, -1) if it contains a single sample.\n",
            "\n",
            "  FitFailedWarning)\n",
            "/usr/local/lib/python3.7/dist-packages/sklearn/model_selection/_validation.py:536: FitFailedWarning: Estimator fit failed. The score on this train-test partition for these parameters will be set to nan. Details: \n",
            "ValueError: Expected 2D array, got 1D array instead:\n",
            "array=[3. 3. 2. 0. 3. 2. 2. 6. 6. 6. 3. 2. 6. 3. 3. 3. 6. 6. 5. 4. 0. 4. 4. 3.\n",
            " 3. 3. 5. 2. 2. 4. 3. 2. 6. 5. 6. 2. 4. 4. 0. 3. 0. 6. 0. 4. 3. 4. 5. 3.\n",
            " 3. 3. 4. 2. 2. 2. 0. 2. 6. 3. 0. 5. 5. 0. 3. 6. 3. 6. 0. 4. 4. 6. 3. 6.\n",
            " 6. 5. 3. 3. 2. 0. 3. 3. 5. 0. 4. 6. 6. 0. 6. 2. 4. 6. 5. 5. 2. 2. 2. 6.\n",
            " 3. 2. 4. 3. 2. 4. 3. 5. 3. 2. 4. 0. 3. 3. 6. 2. 5. 4. 3. 0. 3. 2. 2. 3.\n",
            " 2. 2. 5. 3. 0. 0. 0. 6. 0. 5. 3. 0. 3. 2. 0. 3. 5. 3. 0. 2. 6. 3. 4. 5.\n",
            " 2. 0. 2. 0. 3. 5.].\n",
            "Reshape your data either using array.reshape(-1, 1) if your data has a single feature or array.reshape(1, -1) if it contains a single sample.\n",
            "\n",
            "  FitFailedWarning)\n",
            "/usr/local/lib/python3.7/dist-packages/sklearn/model_selection/_validation.py:536: FitFailedWarning: Estimator fit failed. The score on this train-test partition for these parameters will be set to nan. Details: \n",
            "ValueError: Expected 2D array, got 1D array instead:\n",
            "array=[0. 3. 0. 6. 0. 4. 3. 4. 5. 3. 3. 3. 4. 2. 2. 2. 0. 2. 6. 3. 0. 5. 5. 0.\n",
            " 3. 6. 3. 6. 0. 4. 4. 6. 3. 6. 6. 5. 3. 3. 2. 0. 3. 3. 5. 0. 4. 6. 6. 0.\n",
            " 6. 2. 4. 6. 5. 5. 2. 2. 2. 6. 3. 2. 4. 3. 2. 4. 3. 5. 3. 2. 4. 0. 3. 3.\n",
            " 6. 2. 5. 4. 3. 0. 3. 2. 2. 3. 2. 2. 5. 3. 0. 0. 0. 6. 0. 5. 3. 0. 3. 2.\n",
            " 0. 3. 5. 3. 0. 2. 6. 3. 4. 5. 2. 0. 2. 0. 3. 5. 0. 4. 0. 5. 3. 2. 2. 2.\n",
            " 3. 4. 2. 0. 3. 2. 0. 0. 0. 5. 6. 0. 4. 6. 6. 3. 2. 0. 3. 3. 3. 3. 5. 3.\n",
            " 2. 4. 4. 5. 6.].\n",
            "Reshape your data either using array.reshape(-1, 1) if your data has a single feature or array.reshape(1, -1) if it contains a single sample.\n",
            "\n",
            "  FitFailedWarning)\n",
            "/usr/local/lib/python3.7/dist-packages/sklearn/model_selection/_validation.py:536: FitFailedWarning: Estimator fit failed. The score on this train-test partition for these parameters will be set to nan. Details: \n",
            "ValueError: Expected 2D array, got 1D array instead:\n",
            "array=[3. 3. 2. 0. 3. 2. 2. 6. 6. 6. 3. 2. 6. 3. 3. 3. 6. 6. 5. 4. 0. 4. 4. 3.\n",
            " 3. 3. 5. 2. 2. 4. 3. 2. 6. 5. 6. 2. 4. 4. 2. 0. 3. 3. 5. 0. 4. 6. 6. 0.\n",
            " 6. 2. 4. 6. 5. 5. 2. 2. 2. 6. 3. 2. 4. 3. 2. 4. 3. 5. 3. 2. 4. 0. 3. 3.\n",
            " 6. 2. 5. 4. 3. 0. 3. 2. 2. 3. 2. 2. 5. 3. 0. 0. 0. 6. 0. 5. 3. 0. 3. 2.\n",
            " 0. 3. 5. 3. 0. 2. 6. 3. 4. 5. 2. 0. 2. 0. 3. 5. 0. 4. 0. 5. 3. 2. 2. 2.\n",
            " 3. 4. 2. 0. 3. 2. 0. 0. 0. 5. 6. 0. 4. 6. 6. 3. 2. 0. 3. 3. 3. 3. 5. 3.\n",
            " 2. 4. 4. 5. 6.].\n",
            "Reshape your data either using array.reshape(-1, 1) if your data has a single feature or array.reshape(1, -1) if it contains a single sample.\n",
            "\n",
            "  FitFailedWarning)\n",
            "/usr/local/lib/python3.7/dist-packages/sklearn/model_selection/_validation.py:536: FitFailedWarning: Estimator fit failed. The score on this train-test partition for these parameters will be set to nan. Details: \n",
            "ValueError: Expected 2D array, got 1D array instead:\n",
            "array=[3. 3. 2. 0. 3. 2. 2. 6. 6. 6. 3. 2. 6. 3. 3. 3. 6. 6. 5. 4. 0. 4. 4. 3.\n",
            " 3. 3. 5. 2. 2. 4. 3. 2. 6. 5. 6. 2. 4. 4. 0. 3. 0. 6. 0. 4. 3. 4. 5. 3.\n",
            " 3. 3. 4. 2. 2. 2. 0. 2. 6. 3. 0. 5. 5. 0. 3. 6. 3. 6. 0. 4. 4. 6. 3. 6.\n",
            " 6. 5. 3. 3. 4. 3. 0. 3. 2. 2. 3. 2. 2. 5. 3. 0. 0. 0. 6. 0. 5. 3. 0. 3.\n",
            " 2. 0. 3. 5. 3. 0. 2. 6. 3. 4. 5. 2. 0. 2. 0. 3. 5. 0. 4. 0. 5. 3. 2. 2.\n",
            " 2. 3. 4. 2. 0. 3. 2. 0. 0. 0. 5. 6. 0. 4. 6. 6. 3. 2. 0. 3. 3. 3. 3. 5.\n",
            " 3. 2. 4. 4. 5. 6.].\n",
            "Reshape your data either using array.reshape(-1, 1) if your data has a single feature or array.reshape(1, -1) if it contains a single sample.\n",
            "\n",
            "  FitFailedWarning)\n",
            "/usr/local/lib/python3.7/dist-packages/sklearn/model_selection/_validation.py:536: FitFailedWarning: Estimator fit failed. The score on this train-test partition for these parameters will be set to nan. Details: \n",
            "ValueError: Expected 2D array, got 1D array instead:\n",
            "array=[3. 3. 2. 0. 3. 2. 2. 6. 6. 6. 3. 2. 6. 3. 3. 3. 6. 6. 5. 4. 0. 4. 4. 3.\n",
            " 3. 3. 5. 2. 2. 4. 3. 2. 6. 5. 6. 2. 4. 4. 0. 3. 0. 6. 0. 4. 3. 4. 5. 3.\n",
            " 3. 3. 4. 2. 2. 2. 0. 2. 6. 3. 0. 5. 5. 0. 3. 6. 3. 6. 0. 4. 4. 6. 3. 6.\n",
            " 6. 5. 3. 3. 2. 0. 3. 3. 5. 0. 4. 6. 6. 0. 6. 2. 4. 6. 5. 5. 2. 2. 2. 6.\n",
            " 3. 2. 4. 3. 2. 4. 3. 5. 3. 2. 4. 0. 3. 3. 6. 2. 5. 0. 4. 0. 5. 3. 2. 2.\n",
            " 2. 3. 4. 2. 0. 3. 2. 0. 0. 0. 5. 6. 0. 4. 6. 6. 3. 2. 0. 3. 3. 3. 3. 5.\n",
            " 3. 2. 4. 4. 5. 6.].\n",
            "Reshape your data either using array.reshape(-1, 1) if your data has a single feature or array.reshape(1, -1) if it contains a single sample.\n",
            "\n",
            "  FitFailedWarning)\n",
            "/usr/local/lib/python3.7/dist-packages/sklearn/model_selection/_validation.py:536: FitFailedWarning: Estimator fit failed. The score on this train-test partition for these parameters will be set to nan. Details: \n",
            "ValueError: Expected 2D array, got 1D array instead:\n",
            "array=[3. 3. 2. 0. 3. 2. 2. 6. 6. 6. 3. 2. 6. 3. 3. 3. 6. 6. 5. 4. 0. 4. 4. 3.\n",
            " 3. 3. 5. 2. 2. 4. 3. 2. 6. 5. 6. 2. 4. 4. 0. 3. 0. 6. 0. 4. 3. 4. 5. 3.\n",
            " 3. 3. 4. 2. 2. 2. 0. 2. 6. 3. 0. 5. 5. 0. 3. 6. 3. 6. 0. 4. 4. 6. 3. 6.\n",
            " 6. 5. 3. 3. 2. 0. 3. 3. 5. 0. 4. 6. 6. 0. 6. 2. 4. 6. 5. 5. 2. 2. 2. 6.\n",
            " 3. 2. 4. 3. 2. 4. 3. 5. 3. 2. 4. 0. 3. 3. 6. 2. 5. 4. 3. 0. 3. 2. 2. 3.\n",
            " 2. 2. 5. 3. 0. 0. 0. 6. 0. 5. 3. 0. 3. 2. 0. 3. 5. 3. 0. 2. 6. 3. 4. 5.\n",
            " 2. 0. 2. 0. 3. 5.].\n",
            "Reshape your data either using array.reshape(-1, 1) if your data has a single feature or array.reshape(1, -1) if it contains a single sample.\n",
            "\n",
            "  FitFailedWarning)\n",
            "/usr/local/lib/python3.7/dist-packages/sklearn/model_selection/_validation.py:536: FitFailedWarning: Estimator fit failed. The score on this train-test partition for these parameters will be set to nan. Details: \n",
            "ValueError: Expected 2D array, got 1D array instead:\n",
            "array=[0. 3. 0. 6. 0. 4. 3. 4. 5. 3. 3. 3. 4. 2. 2. 2. 0. 2. 6. 3. 0. 5. 5. 0.\n",
            " 3. 6. 3. 6. 0. 4. 4. 6. 3. 6. 6. 5. 3. 3. 2. 0. 3. 3. 5. 0. 4. 6. 6. 0.\n",
            " 6. 2. 4. 6. 5. 5. 2. 2. 2. 6. 3. 2. 4. 3. 2. 4. 3. 5. 3. 2. 4. 0. 3. 3.\n",
            " 6. 2. 5. 4. 3. 0. 3. 2. 2. 3. 2. 2. 5. 3. 0. 0. 0. 6. 0. 5. 3. 0. 3. 2.\n",
            " 0. 3. 5. 3. 0. 2. 6. 3. 4. 5. 2. 0. 2. 0. 3. 5. 0. 4. 0. 5. 3. 2. 2. 2.\n",
            " 3. 4. 2. 0. 3. 2. 0. 0. 0. 5. 6. 0. 4. 6. 6. 3. 2. 0. 3. 3. 3. 3. 5. 3.\n",
            " 2. 4. 4. 5. 6.].\n",
            "Reshape your data either using array.reshape(-1, 1) if your data has a single feature or array.reshape(1, -1) if it contains a single sample.\n",
            "\n",
            "  FitFailedWarning)\n",
            "/usr/local/lib/python3.7/dist-packages/sklearn/model_selection/_validation.py:536: FitFailedWarning: Estimator fit failed. The score on this train-test partition for these parameters will be set to nan. Details: \n",
            "ValueError: Expected 2D array, got 1D array instead:\n",
            "array=[3. 3. 2. 0. 3. 2. 2. 6. 6. 6. 3. 2. 6. 3. 3. 3. 6. 6. 5. 4. 0. 4. 4. 3.\n",
            " 3. 3. 5. 2. 2. 4. 3. 2. 6. 5. 6. 2. 4. 4. 2. 0. 3. 3. 5. 0. 4. 6. 6. 0.\n",
            " 6. 2. 4. 6. 5. 5. 2. 2. 2. 6. 3. 2. 4. 3. 2. 4. 3. 5. 3. 2. 4. 0. 3. 3.\n",
            " 6. 2. 5. 4. 3. 0. 3. 2. 2. 3. 2. 2. 5. 3. 0. 0. 0. 6. 0. 5. 3. 0. 3. 2.\n",
            " 0. 3. 5. 3. 0. 2. 6. 3. 4. 5. 2. 0. 2. 0. 3. 5. 0. 4. 0. 5. 3. 2. 2. 2.\n",
            " 3. 4. 2. 0. 3. 2. 0. 0. 0. 5. 6. 0. 4. 6. 6. 3. 2. 0. 3. 3. 3. 3. 5. 3.\n",
            " 2. 4. 4. 5. 6.].\n",
            "Reshape your data either using array.reshape(-1, 1) if your data has a single feature or array.reshape(1, -1) if it contains a single sample.\n",
            "\n",
            "  FitFailedWarning)\n",
            "/usr/local/lib/python3.7/dist-packages/sklearn/model_selection/_validation.py:536: FitFailedWarning: Estimator fit failed. The score on this train-test partition for these parameters will be set to nan. Details: \n",
            "ValueError: Expected 2D array, got 1D array instead:\n",
            "array=[3. 3. 2. 0. 3. 2. 2. 6. 6. 6. 3. 2. 6. 3. 3. 3. 6. 6. 5. 4. 0. 4. 4. 3.\n",
            " 3. 3. 5. 2. 2. 4. 3. 2. 6. 5. 6. 2. 4. 4. 0. 3. 0. 6. 0. 4. 3. 4. 5. 3.\n",
            " 3. 3. 4. 2. 2. 2. 0. 2. 6. 3. 0. 5. 5. 0. 3. 6. 3. 6. 0. 4. 4. 6. 3. 6.\n",
            " 6. 5. 3. 3. 4. 3. 0. 3. 2. 2. 3. 2. 2. 5. 3. 0. 0. 0. 6. 0. 5. 3. 0. 3.\n",
            " 2. 0. 3. 5. 3. 0. 2. 6. 3. 4. 5. 2. 0. 2. 0. 3. 5. 0. 4. 0. 5. 3. 2. 2.\n",
            " 2. 3. 4. 2. 0. 3. 2. 0. 0. 0. 5. 6. 0. 4. 6. 6. 3. 2. 0. 3. 3. 3. 3. 5.\n",
            " 3. 2. 4. 4. 5. 6.].\n",
            "Reshape your data either using array.reshape(-1, 1) if your data has a single feature or array.reshape(1, -1) if it contains a single sample.\n",
            "\n",
            "  FitFailedWarning)\n",
            "/usr/local/lib/python3.7/dist-packages/sklearn/model_selection/_validation.py:536: FitFailedWarning: Estimator fit failed. The score on this train-test partition for these parameters will be set to nan. Details: \n",
            "ValueError: Expected 2D array, got 1D array instead:\n",
            "array=[3. 3. 2. 0. 3. 2. 2. 6. 6. 6. 3. 2. 6. 3. 3. 3. 6. 6. 5. 4. 0. 4. 4. 3.\n",
            " 3. 3. 5. 2. 2. 4. 3. 2. 6. 5. 6. 2. 4. 4. 0. 3. 0. 6. 0. 4. 3. 4. 5. 3.\n",
            " 3. 3. 4. 2. 2. 2. 0. 2. 6. 3. 0. 5. 5. 0. 3. 6. 3. 6. 0. 4. 4. 6. 3. 6.\n",
            " 6. 5. 3. 3. 2. 0. 3. 3. 5. 0. 4. 6. 6. 0. 6. 2. 4. 6. 5. 5. 2. 2. 2. 6.\n",
            " 3. 2. 4. 3. 2. 4. 3. 5. 3. 2. 4. 0. 3. 3. 6. 2. 5. 0. 4. 0. 5. 3. 2. 2.\n",
            " 2. 3. 4. 2. 0. 3. 2. 0. 0. 0. 5. 6. 0. 4. 6. 6. 3. 2. 0. 3. 3. 3. 3. 5.\n",
            " 3. 2. 4. 4. 5. 6.].\n",
            "Reshape your data either using array.reshape(-1, 1) if your data has a single feature or array.reshape(1, -1) if it contains a single sample.\n",
            "\n",
            "  FitFailedWarning)\n",
            "/usr/local/lib/python3.7/dist-packages/sklearn/model_selection/_validation.py:536: FitFailedWarning: Estimator fit failed. The score on this train-test partition for these parameters will be set to nan. Details: \n",
            "ValueError: Expected 2D array, got 1D array instead:\n",
            "array=[3. 3. 2. 0. 3. 2. 2. 6. 6. 6. 3. 2. 6. 3. 3. 3. 6. 6. 5. 4. 0. 4. 4. 3.\n",
            " 3. 3. 5. 2. 2. 4. 3. 2. 6. 5. 6. 2. 4. 4. 0. 3. 0. 6. 0. 4. 3. 4. 5. 3.\n",
            " 3. 3. 4. 2. 2. 2. 0. 2. 6. 3. 0. 5. 5. 0. 3. 6. 3. 6. 0. 4. 4. 6. 3. 6.\n",
            " 6. 5. 3. 3. 2. 0. 3. 3. 5. 0. 4. 6. 6. 0. 6. 2. 4. 6. 5. 5. 2. 2. 2. 6.\n",
            " 3. 2. 4. 3. 2. 4. 3. 5. 3. 2. 4. 0. 3. 3. 6. 2. 5. 4. 3. 0. 3. 2. 2. 3.\n",
            " 2. 2. 5. 3. 0. 0. 0. 6. 0. 5. 3. 0. 3. 2. 0. 3. 5. 3. 0. 2. 6. 3. 4. 5.\n",
            " 2. 0. 2. 0. 3. 5.].\n",
            "Reshape your data either using array.reshape(-1, 1) if your data has a single feature or array.reshape(1, -1) if it contains a single sample.\n",
            "\n",
            "  FitFailedWarning)\n"
          ]
        },
        {
          "output_type": "error",
          "ename": "ValueError",
          "evalue": "ignored",
          "traceback": [
            "\u001b[0;31m---------------------------------------------------------------------------\u001b[0m",
            "\u001b[0;31mValueError\u001b[0m                                Traceback (most recent call last)",
            "\u001b[0;32m<ipython-input-25-0959e7c6a10c>\u001b[0m in \u001b[0;36m<module>\u001b[0;34m()\u001b[0m\n\u001b[1;32m     26\u001b[0m }\n\u001b[1;32m     27\u001b[0m \u001b[0mdecision_grid\u001b[0m \u001b[0;34m=\u001b[0m \u001b[0mGridSearchCV\u001b[0m\u001b[0;34m(\u001b[0m\u001b[0mDecisionTreeClassifier\u001b[0m\u001b[0;34m(\u001b[0m\u001b[0;34m)\u001b[0m\u001b[0;34m,\u001b[0m\u001b[0mparams_dec\u001b[0m\u001b[0;34m)\u001b[0m\u001b[0;34m\u001b[0m\u001b[0;34m\u001b[0m\u001b[0m\n\u001b[0;32m---> 28\u001b[0;31m \u001b[0mdecision_grid\u001b[0m\u001b[0;34m.\u001b[0m\u001b[0mfit\u001b[0m\u001b[0;34m(\u001b[0m\u001b[0my_train\u001b[0m\u001b[0;34m,\u001b[0m \u001b[0mx_train\u001b[0m\u001b[0;34m)\u001b[0m\u001b[0;34m.\u001b[0m\u001b[0marray\u001b[0m\u001b[0;34m.\u001b[0m\u001b[0mreshape\u001b[0m\u001b[0;34m(\u001b[0m\u001b[0;34m-\u001b[0m\u001b[0;36m1\u001b[0m\u001b[0;34m,\u001b[0m \u001b[0;36m1\u001b[0m\u001b[0;34m)\u001b[0m\u001b[0;34m\u001b[0m\u001b[0;34m\u001b[0m\u001b[0m\n\u001b[0m\u001b[1;32m     29\u001b[0m \u001b[0mbest\u001b[0m \u001b[0;34m=\u001b[0m \u001b[0mdecision_grid\u001b[0m\u001b[0;34m.\u001b[0m\u001b[0mbest_estimator_\u001b[0m\u001b[0;34m\u001b[0m\u001b[0;34m\u001b[0m\u001b[0m\n\u001b[1;32m     30\u001b[0m \u001b[0mprint\u001b[0m\u001b[0;34m(\u001b[0m\u001b[0mbest\u001b[0m\u001b[0;34m)\u001b[0m\u001b[0;34m\u001b[0m\u001b[0;34m\u001b[0m\u001b[0m\n",
            "\u001b[0;32m/usr/local/lib/python3.7/dist-packages/sklearn/model_selection/_search.py\u001b[0m in \u001b[0;36mfit\u001b[0;34m(self, X, y, groups, **fit_params)\u001b[0m\n\u001b[1;32m    737\u001b[0m             \u001b[0mrefit_start_time\u001b[0m \u001b[0;34m=\u001b[0m \u001b[0mtime\u001b[0m\u001b[0;34m.\u001b[0m\u001b[0mtime\u001b[0m\u001b[0;34m(\u001b[0m\u001b[0;34m)\u001b[0m\u001b[0;34m\u001b[0m\u001b[0;34m\u001b[0m\u001b[0m\n\u001b[1;32m    738\u001b[0m             \u001b[0;32mif\u001b[0m \u001b[0my\u001b[0m \u001b[0;32mis\u001b[0m \u001b[0;32mnot\u001b[0m \u001b[0;32mNone\u001b[0m\u001b[0;34m:\u001b[0m\u001b[0;34m\u001b[0m\u001b[0;34m\u001b[0m\u001b[0m\n\u001b[0;32m--> 739\u001b[0;31m                 \u001b[0mself\u001b[0m\u001b[0;34m.\u001b[0m\u001b[0mbest_estimator_\u001b[0m\u001b[0;34m.\u001b[0m\u001b[0mfit\u001b[0m\u001b[0;34m(\u001b[0m\u001b[0mX\u001b[0m\u001b[0;34m,\u001b[0m \u001b[0my\u001b[0m\u001b[0;34m,\u001b[0m \u001b[0;34m**\u001b[0m\u001b[0mfit_params\u001b[0m\u001b[0;34m)\u001b[0m\u001b[0;34m\u001b[0m\u001b[0;34m\u001b[0m\u001b[0m\n\u001b[0m\u001b[1;32m    740\u001b[0m             \u001b[0;32melse\u001b[0m\u001b[0;34m:\u001b[0m\u001b[0;34m\u001b[0m\u001b[0;34m\u001b[0m\u001b[0m\n\u001b[1;32m    741\u001b[0m                 \u001b[0mself\u001b[0m\u001b[0;34m.\u001b[0m\u001b[0mbest_estimator_\u001b[0m\u001b[0;34m.\u001b[0m\u001b[0mfit\u001b[0m\u001b[0;34m(\u001b[0m\u001b[0mX\u001b[0m\u001b[0;34m,\u001b[0m \u001b[0;34m**\u001b[0m\u001b[0mfit_params\u001b[0m\u001b[0;34m)\u001b[0m\u001b[0;34m\u001b[0m\u001b[0;34m\u001b[0m\u001b[0m\n",
            "\u001b[0;32m/usr/local/lib/python3.7/dist-packages/sklearn/tree/_classes.py\u001b[0m in \u001b[0;36mfit\u001b[0;34m(self, X, y, sample_weight, check_input, X_idx_sorted)\u001b[0m\n\u001b[1;32m    875\u001b[0m             \u001b[0msample_weight\u001b[0m\u001b[0;34m=\u001b[0m\u001b[0msample_weight\u001b[0m\u001b[0;34m,\u001b[0m\u001b[0;34m\u001b[0m\u001b[0;34m\u001b[0m\u001b[0m\n\u001b[1;32m    876\u001b[0m             \u001b[0mcheck_input\u001b[0m\u001b[0;34m=\u001b[0m\u001b[0mcheck_input\u001b[0m\u001b[0;34m,\u001b[0m\u001b[0;34m\u001b[0m\u001b[0;34m\u001b[0m\u001b[0m\n\u001b[0;32m--> 877\u001b[0;31m             X_idx_sorted=X_idx_sorted)\n\u001b[0m\u001b[1;32m    878\u001b[0m         \u001b[0;32mreturn\u001b[0m \u001b[0mself\u001b[0m\u001b[0;34m\u001b[0m\u001b[0;34m\u001b[0m\u001b[0m\n\u001b[1;32m    879\u001b[0m \u001b[0;34m\u001b[0m\u001b[0m\n",
            "\u001b[0;32m/usr/local/lib/python3.7/dist-packages/sklearn/tree/_classes.py\u001b[0m in \u001b[0;36mfit\u001b[0;34m(self, X, y, sample_weight, check_input, X_idx_sorted)\u001b[0m\n\u001b[1;32m    147\u001b[0m \u001b[0;34m\u001b[0m\u001b[0m\n\u001b[1;32m    148\u001b[0m         \u001b[0;32mif\u001b[0m \u001b[0mcheck_input\u001b[0m\u001b[0;34m:\u001b[0m\u001b[0;34m\u001b[0m\u001b[0;34m\u001b[0m\u001b[0m\n\u001b[0;32m--> 149\u001b[0;31m             \u001b[0mX\u001b[0m \u001b[0;34m=\u001b[0m \u001b[0mcheck_array\u001b[0m\u001b[0;34m(\u001b[0m\u001b[0mX\u001b[0m\u001b[0;34m,\u001b[0m \u001b[0mdtype\u001b[0m\u001b[0;34m=\u001b[0m\u001b[0mDTYPE\u001b[0m\u001b[0;34m,\u001b[0m \u001b[0maccept_sparse\u001b[0m\u001b[0;34m=\u001b[0m\u001b[0;34m\"csc\"\u001b[0m\u001b[0;34m)\u001b[0m\u001b[0;34m\u001b[0m\u001b[0;34m\u001b[0m\u001b[0m\n\u001b[0m\u001b[1;32m    150\u001b[0m             \u001b[0my\u001b[0m \u001b[0;34m=\u001b[0m \u001b[0mcheck_array\u001b[0m\u001b[0;34m(\u001b[0m\u001b[0my\u001b[0m\u001b[0;34m,\u001b[0m \u001b[0mensure_2d\u001b[0m\u001b[0;34m=\u001b[0m\u001b[0;32mFalse\u001b[0m\u001b[0;34m,\u001b[0m \u001b[0mdtype\u001b[0m\u001b[0;34m=\u001b[0m\u001b[0;32mNone\u001b[0m\u001b[0;34m)\u001b[0m\u001b[0;34m\u001b[0m\u001b[0;34m\u001b[0m\u001b[0m\n\u001b[1;32m    151\u001b[0m             \u001b[0;32mif\u001b[0m \u001b[0missparse\u001b[0m\u001b[0;34m(\u001b[0m\u001b[0mX\u001b[0m\u001b[0;34m)\u001b[0m\u001b[0;34m:\u001b[0m\u001b[0;34m\u001b[0m\u001b[0;34m\u001b[0m\u001b[0m\n",
            "\u001b[0;32m/usr/local/lib/python3.7/dist-packages/sklearn/utils/validation.py\u001b[0m in \u001b[0;36mcheck_array\u001b[0;34m(array, accept_sparse, accept_large_sparse, dtype, order, copy, force_all_finite, ensure_2d, allow_nd, ensure_min_samples, ensure_min_features, warn_on_dtype, estimator)\u001b[0m\n\u001b[1;32m    554\u001b[0m                     \u001b[0;34m\"Reshape your data either using array.reshape(-1, 1) if \"\u001b[0m\u001b[0;34m\u001b[0m\u001b[0;34m\u001b[0m\u001b[0m\n\u001b[1;32m    555\u001b[0m                     \u001b[0;34m\"your data has a single feature or array.reshape(1, -1) \"\u001b[0m\u001b[0;34m\u001b[0m\u001b[0;34m\u001b[0m\u001b[0m\n\u001b[0;32m--> 556\u001b[0;31m                     \"if it contains a single sample.\".format(array))\n\u001b[0m\u001b[1;32m    557\u001b[0m \u001b[0;34m\u001b[0m\u001b[0m\n\u001b[1;32m    558\u001b[0m         \u001b[0;31m# in the future np.flexible dtypes will be handled like object dtypes\u001b[0m\u001b[0;34m\u001b[0m\u001b[0;34m\u001b[0m\u001b[0;34m\u001b[0m\u001b[0m\n",
            "\u001b[0;31mValueError\u001b[0m: Expected 2D array, got 1D array instead:\narray=[3. 3. 2. 0. 3. 2. 2. 6. 6. 6. 3. 2. 6. 3. 3. 3. 6. 6. 5. 4. 0. 4. 4. 3.\n 3. 3. 5. 2. 2. 4. 3. 2. 6. 5. 6. 2. 4. 4. 0. 3. 0. 6. 0. 4. 3. 4. 5. 3.\n 3. 3. 4. 2. 2. 2. 0. 2. 6. 3. 0. 5. 5. 0. 3. 6. 3. 6. 0. 4. 4. 6. 3. 6.\n 6. 5. 3. 3. 2. 0. 3. 3. 5. 0. 4. 6. 6. 0. 6. 2. 4. 6. 5. 5. 2. 2. 2. 6.\n 3. 2. 4. 3. 2. 4. 3. 5. 3. 2. 4. 0. 3. 3. 6. 2. 5. 4. 3. 0. 3. 2. 2. 3.\n 2. 2. 5. 3. 0. 0. 0. 6. 0. 5. 3. 0. 3. 2. 0. 3. 5. 3. 0. 2. 6. 3. 4. 5.\n 2. 0. 2. 0. 3. 5. 0. 4. 0. 5. 3. 2. 2. 2. 3. 4. 2. 0. 3. 2. 0. 0. 0. 5.\n 6. 0. 4. 6. 6. 3. 2. 0. 3. 3. 3. 3. 5. 3. 2. 4. 4. 5. 6.].\nReshape your data either using array.reshape(-1, 1) if your data has a single feature or array.reshape(1, -1) if it contains a single sample."
          ]
        }
      ]
    },
    {
      "cell_type": "markdown",
      "metadata": {
        "id": "wrUfQA8-vp7z"
      },
      "source": [
        "# KNN"
      ]
    },
    {
      "cell_type": "code",
      "metadata": {
        "id": "DnvgPSSAbEHP",
        "colab": {
          "base_uri": "https://localhost:8080/"
        },
        "outputId": "3125ceee-9b97-4b06-a417-77554acf172c"
      },
      "source": [
        "from sklearn.neighbors import KNeighborsClassifier \n",
        "from sklearn.metrics import f1_score, accuracy_score\n",
        "\n",
        "knn_estimator = Pipeline(steps=[('scaler', StandardScaler()), ('estimator', KNeighborsClassifier())])\n",
        "\n",
        "knn_params = [{'estimator__n_neighbors': np.arange(1, 85).astype('int')}]\n",
        "\n",
        "knn_grid = GridSearchCV(estimator=knn_estimator,                        \n",
        "                        param_grid=knn_params,                        \n",
        "                        cv=5,                       \n",
        "                        n_jobs=-1,                     \n",
        "                        scoring = 'f1_micro') \n",
        "knn_grid.fit(x_train, y_train)\n",
        "print('knn F1: ', f1_score(y_train, knn_grid.predict(x_train), average='micro'))\n",
        "print('best_knn_parameters: ', knn_grid.best_params_)"
      ],
      "execution_count": null,
      "outputs": [
        {
          "output_type": "stream",
          "name": "stdout",
          "text": [
            "knn F1:  0.2727272727272727\n",
            "best_knn_parameters:  {'estimator__n_neighbors': 33}\n"
          ]
        }
      ]
    },
    {
      "cell_type": "code",
      "source": [
        "from sklearn.ensemble import RandomForestClassifier\n",
        "from sklearn.metrics import f1_score, accuracy_score\n",
        "\n",
        "random_forest = Pipeline(steps=[('scaler', StandardScaler()), ('estimator', RandomForestClassifier())])\n",
        "\n",
        "random_forest_params = [{'estimator__n_neighbors': np.arange(1, 85).astype('int')}]\n",
        "\n",
        "random_forest_grid = GridSearchCV(estimator=random_forest,                        \n",
        "                        param_grid=random_forest_params,                        \n",
        "                        cv=5,                       \n",
        "                        n_jobs=-1,                     \n",
        "                        scoring = 'f1_micro') \n",
        "random_forest_grid.fit(x_train, y_train)\n",
        "print('knn F1: ', f1_score(y_train, random_forest_grid.predict(x_train), average='micro'))\n",
        "print('best_random_forest_parameters: ', random_forest_grid.best_params_)"
      ],
      "metadata": {
        "id": "XdILlTgxLBGp"
      },
      "execution_count": null,
      "outputs": []
    }
  ]
}